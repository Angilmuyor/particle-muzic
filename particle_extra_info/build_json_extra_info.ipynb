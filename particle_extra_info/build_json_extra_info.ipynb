{
 "cells": [
  {
   "cell_type": "code",
   "execution_count": 1,
   "metadata": {},
   "outputs": [],
   "source": [
    "import csv\n",
    "import json\n",
    "import urllib2\n",
    "import io\n",
    "\n",
    "part_json={}\n",
    "\n",
    "url = 'https://docs.google.com/spreadsheets/d/e/2PACX-1vQ2jp-kn64DNgI_vpYTGifbVUkPYPK-NyIevfASdw5IgMlRtug3NBNVbYQDgBrq5WroOAEJEC_1sAWY/pub?gid=1451764438&output=csv'\n",
    "response = urllib2.urlopen(url)\n",
    "reader = csv.DictReader(response)\n",
    "title = reader.fieldnames\n",
    "for row in reader:\n",
    "    part_json[row['PdgId']]={}\n",
    "    #composition\n",
    "    part_json[row['PdgId']]['composition']=[]\n",
    "    if row['composition'] not in ['0','']:\n",
    "        for item in row['composition'].split('.'):\n",
    "            part_json[row['PdgId']]['composition'].append(str(item.split(';')))\n",
    "                        \n",
    "    #interactions\n",
    "    part_json[row['PdgId']]['interactions']=[]\n",
    "    if row['interactions']!='':\n",
    "        part_json[row['PdgId']]['interactions'].append(row['interactions'].split(';'))\n",
    "    #rest\n",
    "    part_json[row['PdgId']]['latex']=row['latex']\n",
    "    part_json[row['PdgId']]['type']=row['type']\n",
    "    part_json[row['PdgId']]['family']=row['family']\n",
    "    part_json[row['PdgId']]['symbol']=row['symbol']\n",
    "    part_json[row['PdgId']]['antiparticle']=row['antiparticle']\n",
    "    part_json[row['PdgId']]['Spin']=row['Spin']\n",
    "    part_json[row['PdgId']]['Parity']=row['Parity']\n",
    "    part_json[row['PdgId']]['Isospin']=row['Isospin']\n",
    "    part_json[row['PdgId']]['J^P']=row['J^P'] \n",
    "    part_json[row['PdgId']]['Strangeness']=row['Strangeness']\n",
    "    part_json[row['PdgId']]['Charm']=row['Charm'] \n",
    "    part_json[row['PdgId']]['Bottomness']=row['Bottomness'] \n",
    "    \n",
    "    \n",
    "#print json.dumps(part_json, indent=4,ensure_ascii=False)\n",
    "\n",
    "with io.open('part_extra_info.json', 'w', encoding='utf-8') as f:\n",
    " f.write(unicode(json.dumps(part_json, indent=4, ensure_ascii=True, sort_keys=True )))\n"
   ]
  },
  {
   "cell_type": "code",
   "execution_count": null,
   "metadata": {},
   "outputs": [],
   "source": []
  },
  {
   "cell_type": "code",
   "execution_count": null,
   "metadata": {},
   "outputs": [],
   "source": []
  },
  {
   "cell_type": "code",
   "execution_count": null,
   "metadata": {},
   "outputs": [],
   "source": []
  },
  {
   "cell_type": "code",
   "execution_count": null,
   "metadata": {},
   "outputs": [],
   "source": []
  }
 ],
 "metadata": {
  "kernelspec": {
   "display_name": "Python 2",
   "language": "python",
   "name": "python2"
  },
  "language_info": {
   "codemirror_mode": {
    "name": "ipython",
    "version": 2
   },
   "file_extension": ".py",
   "mimetype": "text/x-python",
   "name": "python",
   "nbconvert_exporter": "python",
   "pygments_lexer": "ipython2",
   "version": "2.7.14"
  }
 },
 "nbformat": 4,
 "nbformat_minor": 2
}
