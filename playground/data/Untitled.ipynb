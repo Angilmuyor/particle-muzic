{
 "cells": [
  {
   "cell_type": "code",
   "execution_count": 19,
   "metadata": {},
   "outputs": [],
   "source": [
    "from __future__ import print_function\n",
    "from particletools.tables import PYTHIAParticleData, print_decay_channels\n",
    "import math"
   ]
  },
  {
   "cell_type": "code",
   "execution_count": 2,
   "metadata": {},
   "outputs": [],
   "source": [
    "pdata = PYTHIAParticleData()"
   ]
  },
  {
   "cell_type": "code",
   "execution_count": 23,
   "metadata": {},
   "outputs": [
    {
     "name": "stdout",
     "output_type": "stream",
     "text": [
      "Z0 decays into:\n",
      "\t   15.3995%, d, dbar\n",
      "\t   15.3984%, s, sbar\n",
      "\t   15.2272%, b, bbar\n",
      "\t    11.942%, u, ubar\n",
      "\t   11.9259%, c, cbar\n",
      "\t    6.6806%, nu_tau, nu_taubar\n",
      "\t    6.6806%, nu_mu, nu_mubar\n",
      "\t    6.6806%, nu_e, nu_ebar\n",
      "\t    3.3576%, mu-, mu+\n",
      "\t    3.3576%, e-, e+\n",
      "\t      3.35%, tau-, tau+\n"
     ]
    }
   ],
   "source": [
    "print_decay_channels(23)"
   ]
  },
  {
   "cell_type": "code",
   "execution_count": 9,
   "metadata": {},
   "outputs": [
    {
     "ename": "AttributeError",
     "evalue": "'ParticleData' object has no attribute 'decay_channels'",
     "output_type": "error",
     "traceback": [
      "\u001b[0;31m---------------------------------------------------------------------------\u001b[0m",
      "\u001b[0;31mAttributeError\u001b[0m                            Traceback (most recent call last)",
      "\u001b[0;32m<ipython-input-9-1ab3ab7f1d65>\u001b[0m in \u001b[0;36m<module>\u001b[0;34m()\u001b[0m\n\u001b[0;32m----> 1\u001b[0;31m \u001b[0mpdata\u001b[0m\u001b[0;34m[\u001b[0m\u001b[0;34m'Z0'\u001b[0m\u001b[0;34m]\u001b[0m\u001b[0;34m.\u001b[0m\u001b[0mdecay_channels\u001b[0m\u001b[0;34m\u001b[0m\u001b[0m\n\u001b[0m",
      "\u001b[0;31mAttributeError\u001b[0m: 'ParticleData' object has no attribute 'decay_channels'"
     ]
    }
   ],
   "source": [
    "pdata['Z0'].decay_channels"
   ]
  },
  {
   "cell_type": "code",
   "execution_count": 10,
   "metadata": {},
   "outputs": [
    {
     "data": {
      "text/plain": [
       "[(0.153995, [1, -1]),\n",
       " (0.11942, [2, -2]),\n",
       " (0.153984, [3, -3]),\n",
       " (0.119259, [4, -4]),\n",
       " (0.152272, [5, -5]),\n",
       " (0.033576, [11, -11]),\n",
       " (0.066806, [12, -12]),\n",
       " (0.033576, [13, -13]),\n",
       " (0.066806, [14, -14]),\n",
       " (0.0335, [15, -15]),\n",
       " (0.066806, [16, -16])]"
      ]
     },
     "execution_count": 10,
     "metadata": {},
     "output_type": "execute_result"
    }
   ],
   "source": [
    "pdata.decay_channels('Z0')"
   ]
  },
  {
   "cell_type": "code",
   "execution_count": 11,
   "metadata": {},
   "outputs": [
    {
     "data": {
      "text/plain": [
       "91.1876"
      ]
     },
     "execution_count": 11,
     "metadata": {},
     "output_type": "execute_result"
    }
   ],
   "source": [
    "pdata.mass('Z0')"
   ]
  },
  {
   "cell_type": "code",
   "execution_count": 14,
   "metadata": {},
   "outputs": [
    {
     "data": {
      "text/plain": [
       "23"
      ]
     },
     "execution_count": 14,
     "metadata": {},
     "output_type": "execute_result"
    }
   ],
   "source": [
    "pdata.pdg_id('Z0')"
   ]
  },
  {
   "cell_type": "code",
   "execution_count": 17,
   "metadata": {},
   "outputs": [
    {
     "ename": "AttributeError",
     "evalue": "'PYTHIAParticleData' object has no attribute 'print_decay_channels'",
     "output_type": "error",
     "traceback": [
      "\u001b[0;31m---------------------------------------------------------------------------\u001b[0m",
      "\u001b[0;31mAttributeError\u001b[0m                            Traceback (most recent call last)",
      "\u001b[0;32m<ipython-input-17-671eeeec268b>\u001b[0m in \u001b[0;36m<module>\u001b[0;34m()\u001b[0m\n\u001b[0;32m----> 1\u001b[0;31m \u001b[0mpdata\u001b[0m\u001b[0;34m.\u001b[0m\u001b[0mprint_decay_channels\u001b[0m\u001b[0;34m(\u001b[0m\u001b[0;36m23\u001b[0m\u001b[0;34m)\u001b[0m\u001b[0;34m\u001b[0m\u001b[0m\n\u001b[0m",
      "\u001b[0;31mAttributeError\u001b[0m: 'PYTHIAParticleData' object has no attribute 'print_decay_channels'"
     ]
    }
   ],
   "source": [
    "pdata.print_decay_channels(23)"
   ]
  },
  {
   "cell_type": "code",
   "execution_count": null,
   "metadata": {},
   "outputs": [],
   "source": []
  },
  {
   "cell_type": "code",
   "execution_count": null,
   "metadata": {},
   "outputs": [],
   "source": []
  }
 ],
 "metadata": {
  "kernelspec": {
   "display_name": "particles",
   "language": "python",
   "name": "particles"
  },
  "language_info": {
   "codemirror_mode": {
    "name": "ipython",
    "version": 2
   },
   "file_extension": ".py",
   "mimetype": "text/x-python",
   "name": "python",
   "nbconvert_exporter": "python",
   "pygments_lexer": "ipython2",
   "version": "2.7.10"
  }
 },
 "nbformat": 4,
 "nbformat_minor": 2
}
