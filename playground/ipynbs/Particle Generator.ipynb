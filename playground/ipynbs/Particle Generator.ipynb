{
 "cells": [
  {
   "cell_type": "code",
   "execution_count": 1,
   "metadata": {},
   "outputs": [],
   "source": [
    "%load_ext autoreload\n",
    "%autoreload 2"
   ]
  },
  {
   "cell_type": "code",
   "execution_count": 2,
   "metadata": {},
   "outputs": [],
   "source": [
    "import sys\n",
    "import json\n",
    "sys.path.insert(0, '../../')\n",
    "from phenomena.particle import Particle, ParticleDT\n",
    "\n",
    "def mass_map(x):\n",
    "    return  math.log10(1+x) / math.log10(1+173.21)\n",
    "\n",
    "def particle_json(name):\n",
    "    params = {}\n",
    "    particle = ParticleDT(name)\n",
    "    params['name']=particle.name\n",
    "    params['type']=particle.type\n",
    "    params['mass']=particle.mass\n",
    "    params['charge']=particle.charge\n",
    "    params['composition']=particle.composition\n",
    "    params['decay']=particle.decay\n",
    "    params['time_to_decay']=particle.time_to_decay\n",
    "    return json.dumps(params)"
   ]
  },
  {
   "cell_type": "code",
   "execution_count": 35,
   "metadata": {},
   "outputs": [
    {
     "data": {
      "text/plain": [
       "'{\"name\": \"W-\", \"decay\": [\"sbar\", \"cbar\"], \"time_to_decay\": 0.3068653875585353, \"charge\": -1.0, \"mass\": 80.385, \"type\": \"boson\", \"composition\": []}'"
      ]
     },
     "execution_count": 35,
     "metadata": {},
     "output_type": "execute_result"
    }
   ],
   "source": [
    "params = particle_json('W-')\n",
    "params   "
   ]
  },
  {
   "cell_type": "code",
   "execution_count": 33,
   "metadata": {},
   "outputs": [
    {
     "data": {
      "text/plain": [
       "'{\"name\": \"gamma0\", \"decay\": [], \"time_to_decay\": \"stable\", \"charge\": 0.0, \"mass\": 0.0, \"type\": \"boson\", \"composition\": []}'"
      ]
     },
     "execution_count": 33,
     "metadata": {},
     "output_type": "execute_result"
    }
   ],
   "source": [
    "params = particle_json('gamma0')\n",
    "params  "
   ]
  },
  {
   "cell_type": "code",
   "execution_count": 3,
   "metadata": {},
   "outputs": [
    {
     "data": {
      "text/plain": [
       "'{\"name\": \"N(1700)-\", \"decay\": [], \"time_to_decay\": 2.1371514043521604, \"charge\": -1.0, \"mass\": 1.7, \"type\": \"baryon\", \"composition\": [\"ubar\", \"ubar\", \"dbar\"]}'"
      ]
     },
     "execution_count": 3,
     "metadata": {},
     "output_type": "execute_result"
    }
   ],
   "source": [
    "params = particle_json('N(1700)-')\n",
    "params"
   ]
  },
  {
   "cell_type": "code",
   "execution_count": null,
   "metadata": {},
   "outputs": [],
   "source": []
  }
 ],
 "metadata": {
  "kernelspec": {
   "display_name": "Python 2",
   "language": "python",
   "name": "python2"
  },
  "language_info": {
   "codemirror_mode": {
    "name": "ipython",
    "version": 2
   },
   "file_extension": ".py",
   "mimetype": "text/x-python",
   "name": "python",
   "nbconvert_exporter": "python",
   "pygments_lexer": "ipython2",
   "version": "2.7.14"
  }
 },
 "nbformat": 4,
 "nbformat_minor": 2
}
