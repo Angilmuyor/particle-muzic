{
 "cells": [
  {
   "cell_type": "code",
   "execution_count": 1,
   "metadata": {},
   "outputs": [],
   "source": [
    "%load_ext autoreload\n",
    "%autoreload 2"
   ]
  },
  {
   "cell_type": "code",
   "execution_count": 2,
   "metadata": {},
   "outputs": [],
   "source": [
    "import sys\n",
    "sys.path.insert(0, '../../')\n",
    "from phenomena.particle import Particle, ParticleDT\n",
    "\n",
    "import pypdt"
   ]
  },
  {
   "cell_type": "code",
   "execution_count": 3,
   "metadata": {},
   "outputs": [],
   "source": [
    "Z = ParticleDT('Z0')"
   ]
  },
  {
   "cell_type": "code",
   "execution_count": 7,
   "metadata": {},
   "outputs": [
    {
     "data": {
      "text/plain": [
       "'Z0'"
      ]
     },
     "execution_count": 7,
     "metadata": {},
     "output_type": "execute_result"
    }
   ],
   "source": [
    "Z.name"
   ]
  },
  {
   "cell_type": "code",
   "execution_count": null,
   "metadata": {},
   "outputs": [],
   "source": [
    "def callback():\n",
    "    print \"I'm the callback\""
   ]
  },
  {
   "cell_type": "code",
   "execution_count": null,
   "metadata": {},
   "outputs": [],
   "source": [
    "Z.start(callback)"
   ]
  },
  {
   "cell_type": "code",
   "execution_count": 15,
   "metadata": {},
   "outputs": [
    {
     "data": {
      "text/plain": [
       "0.0"
      ]
     },
     "execution_count": 15,
     "metadata": {},
     "output_type": "execute_result"
    }
   ],
   "source": [
    "Z.charge"
   ]
  },
  {
   "cell_type": "code",
   "execution_count": 16,
   "metadata": {},
   "outputs": [
    {
     "data": {
      "text/plain": [
       "[(0.153995, ['dbar', 'dbar']),\n",
       " (0.153984, ['sbar', 'sbar']),\n",
       " (0.152272, ['bbar', 'bbar']),\n",
       " (0.11942, ['ubar', 'ubar']),\n",
       " (0.119259, ['cbar', 'cbar']),\n",
       " (0.066806, ['nu_e', 'nubar_e']),\n",
       " (0.066806, ['nu_mu', 'nubar_mu']),\n",
       " (0.066806, ['nu_tau', 'nubar_tau']),\n",
       " (0.033576, ['e-', 'e+']),\n",
       " (0.033576, ['mu-', 'mu+']),\n",
       " (0.0335, ['tau-', 'tau+'])]"
      ]
     },
     "execution_count": 16,
     "metadata": {},
     "output_type": "execute_result"
    }
   ],
   "source": [
    "Z.get_channel_names()"
   ]
  },
  {
   "cell_type": "code",
   "execution_count": 19,
   "metadata": {},
   "outputs": [],
   "source": [
    "H0=ParticleDT('H0')"
   ]
  },
  {
   "cell_type": "code",
   "execution_count": 20,
   "metadata": {},
   "outputs": [
    {
     "data": {
      "text/plain": [
       "[(0.5876728, ['bbar', 'bbar']),\n",
       " (0.215572, ['W+', 'W-']),\n",
       " (0.06908, ['tau-', 'tau+']),\n",
       " (0.0630585, ['g0', 'g0']),\n",
       " (0.0335602, ['cbar', 'cbar']),\n",
       " (0.0259708, ['Z0', 'Z0']),\n",
       " (0.0028438, ['gamma0', 'gamma0']),\n",
       " (0.0017601, ['gamma0', 'Z0']),\n",
       " (0.0002445, ['mu-', 'mu+']),\n",
       " (0.0002361, ['sbar', 'sbar']),\n",
       " (9e-07, ['dbar', 'dbar']),\n",
       " (2e-07, ['ubar', 'ubar'])]"
      ]
     },
     "execution_count": 20,
     "metadata": {},
     "output_type": "execute_result"
    }
   ],
   "source": [
    "H0.get_channel_names()"
   ]
  },
  {
   "cell_type": "code",
   "execution_count": 7,
   "metadata": {},
   "outputs": [
    {
     "data": {
      "text/plain": [
       "['u', 'ubar']"
      ]
     },
     "execution_count": 7,
     "metadata": {},
     "output_type": "execute_result"
    }
   ],
   "source": [
    "eta0.composition"
   ]
  },
  {
   "cell_type": "code",
   "execution_count": 8,
   "metadata": {},
   "outputs": [],
   "source": [
    "Z=ParticleDT('Z0')"
   ]
  },
  {
   "cell_type": "code",
   "execution_count": 11,
   "metadata": {},
   "outputs": [
    {
     "data": {
      "text/plain": [
       "[(0.153995, ['dbar', 'dbar']),\n",
       " (0.153984, ['sbar', 'sbar']),\n",
       " (0.152272, ['bbar', 'bbar']),\n",
       " (0.11942, ['ubar', 'ubar']),\n",
       " (0.119259, ['cbar', 'cbar']),\n",
       " (0.066806, ['nu_e', 'nubar_e']),\n",
       " (0.066806, ['nu_mu', 'nubar_mu']),\n",
       " (0.066806, ['nu_tau', 'nubar_tau']),\n",
       " (0.033576, ['e-', 'e+']),\n",
       " (0.033576, ['mu-', 'mu+']),\n",
       " (0.0335, ['tau-', 'tau+'])]"
      ]
     },
     "execution_count": 11,
     "metadata": {},
     "output_type": "execute_result"
    }
   ],
   "source": [
    "Z.get_channel_names()"
   ]
  },
  {
   "cell_type": "code",
   "execution_count": 12,
   "metadata": {},
   "outputs": [
    {
     "data": {
      "text/plain": [
       "[(0.153995, [1, -1]),\n",
       " (0.11942, [2, -2]),\n",
       " (0.153984, [3, -3]),\n",
       " (0.119259, [4, -4]),\n",
       " (0.152272, [5, -5]),\n",
       " (0.033576, [11, -11]),\n",
       " (0.066806, [12, -12]),\n",
       " (0.033576, [13, -13]),\n",
       " (0.066806, [14, -14]),\n",
       " (0.0335, [15, -15]),\n",
       " (0.066806, [16, -16])]"
      ]
     },
     "execution_count": 12,
     "metadata": {},
     "output_type": "execute_result"
    }
   ],
   "source": [
    "Z.decay_channels"
   ]
  },
  {
   "cell_type": "code",
   "execution_count": null,
   "metadata": {},
   "outputs": [],
   "source": []
  }
 ],
 "metadata": {
  "kernelspec": {
   "display_name": "Python 2",
   "language": "python",
   "name": "python2"
  },
  "language_info": {
   "codemirror_mode": {
    "name": "ipython",
    "version": 2
   },
   "file_extension": ".py",
   "mimetype": "text/x-python",
   "name": "python",
   "nbconvert_exporter": "python",
   "pygments_lexer": "ipython2",
   "version": "2.7.14"
  }
 },
 "nbformat": 4,
 "nbformat_minor": 2
}
