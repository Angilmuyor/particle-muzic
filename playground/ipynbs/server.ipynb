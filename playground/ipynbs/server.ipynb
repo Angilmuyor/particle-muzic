{
 "cells": [
  {
   "cell_type": "code",
   "execution_count": 1,
   "metadata": {},
   "outputs": [],
   "source": [
    "%load_ext autoreload\n",
    "%autoreload 2"
   ]
  },
  {
   "cell_type": "code",
   "execution_count": 5,
   "metadata": {},
   "outputs": [],
   "source": [
    "import sys\n",
    "python_path = '/Users/sgrinschpun/code/particle-muzic/python'\n",
    "sys.path.append(python_path)\n",
    "\n",
    "from phenomena.phenomena_client import Phenomena\n",
    "from phenomena.connection.phenomena_server import PhenomenaServer\n",
    "from phenomena.nodes.node_controller import NodeController"
   ]
  },
  {
   "cell_type": "code",
   "execution_count": 2,
   "metadata": {},
   "outputs": [
    {
     "name": "stdout",
     "output_type": "stream",
     "text": [
      "[<phenomena.particles.particle_action.ParticleEntryNode object at 0x105226f90>, <phenomena.nodes.audiovideo_node.JsonRemoteAudioVideoNode object at 0x106f46b10>]\n",
      "[<phenomena.particles.particle_action.ParticleEntryNode object at 0x105226f90>, <phenomena.nodes.audiovideo_node.JsonRemoteAudioVideoNode object at 0x106f46b10>, <phenomena.particles.particle_action.ParticleAccumulatorNode object at 0x106f46890>]\n"
     ]
    }
   ],
   "source": [
    "server = PhenomenaServer()\n",
    "server.startServer()"
   ]
  },
  {
   "cell_type": "code",
   "execution_count": 7,
   "metadata": {},
   "outputs": [
    {
     "name": "stdout",
     "output_type": "stream",
     "text": [
      "{u'MODULE_PATH': u'node', u'COMMAND_ID': 4, u'PARAMS': {u'particle_name': u'K+', u'E': None, u'theta': 33, u'p': 5}, u'COMMAND_NAME': u'ADD'}\n",
      "THIS:  K+ <type 'unicode'>\n",
      "{u'particle_name': u'K+', u'E': None, u'p': 5, u'theta': 33}\n",
      "33\n",
      "33\n",
      "33\n",
      "Accumulating particle: K+\n",
      "Wait for:  2.44619246712\n",
      "OK ! Outcoming message: type: 1 id 4 Name: ADD Module Path: node\n",
      "particle: K+ Will transform in:  {'theta': 32.869021461946836, 'p': 1.6443845259697796}\n",
      "32.8690214619\n",
      "32.8690214619\n",
      "{'theta': 33.063647709325075, 'p': 3.3765372592813856}\n",
      "33.0636477093\n",
      "33.0636477093\n",
      " New particles: \n",
      "mu+ 1.64438452597 32.8690214619\n",
      "nu_mu 3.37653725928 33.0636477093\n",
      "Accumulating particle: mu+\n",
      "Wait for:  2.78393288019\n",
      "Accumulating particle: nu_mu\n",
      "Wait for:  10\n",
      "removing:  K+\n",
      "Values inside:  2\n",
      "particle: mu+ Will transform in:  {'theta': 5.7356258129272595, 'p': 0.8169255349354787}\n",
      "5.73562581293\n",
      "5.73562581293\n",
      "{'theta': 3.404421440335268, 'p': 0.5879362993442222}\n",
      "3.40442144034\n",
      "3.40442144034\n",
      "{'theta': 5.360440373717732, 'p': 1.3032560957302786}\n",
      "5.36044037372\n",
      "5.36044037372\n",
      " New particles: \n",
      "nu_e 0.816925534935 5.73562581293\n",
      "e+ 0.587936299344 3.40442144034\n",
      "nu_mubar 1.30325609573 5.36044037372\n",
      "Accumulating particle: nu_e\n",
      "Wait for:  10\n",
      "Accumulating particle: e+\n",
      "Wait for:  10\n",
      "Accumulating particle: nu_mubar\n",
      "Wait for:  10\n",
      "removing:  mu+\n",
      "Values inside:  4\n",
      "particle: nu_mu Will transform in:   New particles: \n",
      "removing:  nu_mu\n",
      "Values inside:  3\n",
      "particle: nu_e Will transform in:   New particles: \n",
      "removing:  nu_e\n",
      "Values inside:  2\n",
      "particle: e+ Will transform in:   New particles: \n",
      "removing:  e+\n",
      "Values inside:  1\n",
      "particle: nu_mubar Will transform in:   New particles: \n",
      "removing:  nu_mubar\n",
      "Values inside:  0\n"
     ]
    }
   ],
   "source": [
    "phenomena = Phenomena()\n",
    "for i in range(1):\n",
    "    print phenomena.addParticle(\"K+\", theta=33, p=5)"
   ]
  },
  {
   "cell_type": "code",
   "execution_count": null,
   "metadata": {},
   "outputs": [],
   "source": []
  }
 ],
 "metadata": {
  "kernelspec": {
   "display_name": "particles",
   "language": "python",
   "name": "particles"
  },
  "language_info": {
   "codemirror_mode": {
    "name": "ipython",
    "version": 2
   },
   "file_extension": ".py",
   "mimetype": "text/x-python",
   "name": "python",
   "nbconvert_exporter": "python",
   "pygments_lexer": "ipython2",
   "version": "2.7.10"
  }
 },
 "nbformat": 4,
 "nbformat_minor": 2
}
