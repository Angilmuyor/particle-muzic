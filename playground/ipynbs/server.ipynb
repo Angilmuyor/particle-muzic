{
 "cells": [
  {
   "cell_type": "code",
   "execution_count": 1,
   "metadata": {},
   "outputs": [],
   "source": [
    "%load_ext autoreload\n",
    "%autoreload 2"
   ]
  },
  {
   "cell_type": "code",
   "execution_count": 18,
   "metadata": {},
   "outputs": [
    {
     "name": "stdout",
     "output_type": "stream",
     "text": [
      "particle: gamma Will transform in:   New particles: \n",
      "removing:  gamma\n",
      "Values inside:  5\n",
      "particle: gamma Will transform in:   New particles: \n",
      "removing:  gamma\n",
      "Values inside:  4\n",
      "particle: nu_mu Will transform in:   New particles: \n",
      "removing:  nu_mu\n",
      "Values inside:  3\n"
     ]
    }
   ],
   "source": [
    "import sys, math\n",
    "python_path = '/Users/sgrinschpun/code/particle-muzic/python'\n",
    "sys.path.append(python_path)\n",
    "\n",
    "from phenomena.phenomena_client import Phenomena\n",
    "from phenomena.connection.phenomena_server import PhenomenaServer\n",
    "from phenomena.nodes.node_controller import NodeController"
   ]
  },
  {
   "cell_type": "code",
   "execution_count": 2,
   "metadata": {},
   "outputs": [
    {
     "name": "stdout",
     "output_type": "stream",
     "text": [
      "[<phenomena.particles.particle_action.ParticleEntryNode object at 0x106611a50>, <phenomena.nodes.audiovideo_node.JsonRemoteAudioVideoNode object at 0x106611b10>]\n",
      "[<phenomena.particles.particle_action.ParticleEntryNode object at 0x106611a50>, <phenomena.nodes.audiovideo_node.JsonRemoteAudioVideoNode object at 0x106611b10>, <phenomena.particles.particle_action.ParticleAccumulatorNode object at 0x106611a90>]\n",
      "\n"
     ]
    }
   ],
   "source": [
    "server = PhenomenaServer()\n",
    "server.startServer()"
   ]
  },
  {
   "cell_type": "code",
   "execution_count": 31,
   "metadata": {},
   "outputs": [
    {
     "name": "stdout",
     "output_type": "stream",
     "text": [
      "{u'MODULE_PATH': u'node', u'COMMAND_ID': 28, u'PARAMS': {u'particle_name': u'pi0', u'E': None, u'theta': -1.5707963267948966, u'p': 0.5}, u'COMMAND_NAME': u'ADD'}\n",
      "THIS:  pi0 <type 'unicode'>\n",
      "-1.57079632679\n",
      "Accumulating particle: pi0\n",
      "Wait for:  2.3840868672\n",
      "OK ! Outcoming message: type: 1 id 28 Name: ADD Module Path: node\n",
      "particle: pi0 Will transform in:   New particles: \n",
      "gamma 0.0331064648313 -2.63469788509\n",
      "gamma 0.48479275355 -1.51105790423\n",
      "Accumulating particle: gamma\n",
      "Wait for:  10\n",
      "Accumulating particle: gamma\n",
      "Wait for:  10\n",
      "removing:  pi0\n",
      "Values inside:  3\n",
      "particle: gamma Will transform in:   New particles: \n",
      "removing:  gamma\n",
      "Values inside:  2\n",
      "particle: gamma Will transform in:   New particles: \n",
      "removing:  gamma\n",
      "Values inside:  1\n"
     ]
    }
   ],
   "source": [
    "phenomena = Phenomena()\n",
    "for i in range(1):\n",
    "    print phenomena.addParticle(\"pi0\", theta=-math.pi/2, p=0.5)"
   ]
  },
  {
   "cell_type": "code",
   "execution_count": null,
   "metadata": {},
   "outputs": [],
   "source": []
  },
  {
   "cell_type": "code",
   "execution_count": null,
   "metadata": {},
   "outputs": [],
   "source": []
  }
 ],
 "metadata": {
  "kernelspec": {
   "display_name": "particles",
   "language": "python",
   "name": "particles"
  },
  "language_info": {
   "codemirror_mode": {
    "name": "ipython",
    "version": 2
   },
   "file_extension": ".py",
   "mimetype": "text/x-python",
   "name": "python",
   "nbconvert_exporter": "python",
   "pygments_lexer": "ipython2",
   "version": "2.7.10"
  }
 },
 "nbformat": 4,
 "nbformat_minor": 2
}
