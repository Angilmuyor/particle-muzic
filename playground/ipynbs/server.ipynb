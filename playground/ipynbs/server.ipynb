{
 "cells": [
  {
   "cell_type": "code",
   "execution_count": 1,
   "metadata": {},
   "outputs": [],
   "source": [
    "%load_ext autoreload\n",
    "%autoreload 2"
   ]
  },
  {
   "cell_type": "code",
   "execution_count": 2,
   "metadata": {},
   "outputs": [],
   "source": [
    "import sys, math\n",
    "python_path = '/Users/sgrinschpun/code/particle-muzic/python'\n",
    "sys.path.append(python_path)\n",
    "\n",
    "from phenomena.phenomena_client import Phenomena\n",
    "from phenomena.connection.phenomena_server import PhenomenaServer\n",
    "from phenomena.nodes.node_controller import NodeController"
   ]
  },
  {
   "cell_type": "code",
   "execution_count": 3,
   "metadata": {},
   "outputs": [
    {
     "name": "stdout",
     "output_type": "stream",
     "text": [
      "[<phenomena.particles.particle_action.ParticleEntryNode object at 0x107626dd0>, <phenomena.nodes.audiovideo_node.JsonRemoteAudioVideoNode object at 0x107626e10>]\n",
      "[<phenomena.particles.particle_action.ParticleEntryNode object at 0x107626dd0>, <phenomena.nodes.audiovideo_node.JsonRemoteAudioVideoNode object at 0x107626e10>, <phenomena.particles.particle_action.ParticleAccumulatorNode object at 0x107626e50>]\n"
     ]
    }
   ],
   "source": [
    "server = PhenomenaServer()\n",
    "server.startServer()"
   ]
  },
  {
   "cell_type": "code",
   "execution_count": 40,
   "metadata": {},
   "outputs": [
    {
     "name": "stdout",
     "output_type": "stream",
     "text": [
      "{u'MODULE_PATH': u'node', u'COMMAND_ID': 37, u'PARAMS': {u'particle_name': u'K+', u'E': None, u'theta': 0, u'p': 0.5}, u'COMMAND_NAME': u'ADD'}\n",
      "THIS:  K+ <type 'unicode'>\n",
      "0\n",
      "Accumulating particle: K+\n",
      "Wait for:  2.4457023872\n",
      "OK ! Outcoming message: type: 1 id 37 Name: ADD Module Path: node\n",
      "particle: K+ Will transform in:   New particles: \n",
      "mu+ 0.369689286938 -0.688626124631\n",
      "nu_mu 0.318159939393 0.830693419444\n",
      "Accumulating particle: mu+\n",
      "Wait for:  2.74407259093\n",
      "Accumulating particle: nu_mu\n",
      "Wait for:  10\n",
      "removing:  K+\n",
      "Values inside:  6\n",
      "particle: mu+ Will transform in:   New particles: \n",
      "nu_e 4.49993652857 4.19972560576\n",
      "e+ 1.16305299489 4.73648496183\n",
      "nu_mubar 4.0984576839 0.7504321493\n",
      "Accumulating particle: nu_e\n",
      "Wait for:  10\n",
      "Accumulating particle: e+\n",
      "Wait for:  10\n",
      "Accumulating particle: nu_mubar\n",
      "Wait for:  10\n",
      "removing:  mu+\n",
      "Values inside:  8\n",
      "particle: nu_mu Will transform in:   New particles: \n",
      "removing:  nu_mu\n",
      "Values inside:  7\n",
      "particle: nu_e Will transform in:   New particles: \n",
      "removing:  nu_e\n",
      "Values inside:  6\n",
      "particle: e+ Will transform in:   New particles: \n",
      "removing:  e+\n",
      "Values inside:  5\n",
      "particle: nu_mubar Will transform in:   New particles: \n",
      "removing:  nu_mubar\n",
      "Values inside:  4\n"
     ]
    }
   ],
   "source": [
    "phenomena = Phenomena()\n",
    "for i in range(1):\n",
    "    print phenomena.addParticle(\"K+\",theta=0, p=0.5)"
   ]
  },
  {
   "cell_type": "code",
   "execution_count": null,
   "metadata": {},
   "outputs": [],
   "source": []
  },
  {
   "cell_type": "code",
   "execution_count": null,
   "metadata": {},
   "outputs": [],
   "source": []
  }
 ],
 "metadata": {
  "kernelspec": {
   "display_name": "particles",
   "language": "python",
   "name": "particles"
  },
  "language_info": {
   "codemirror_mode": {
    "name": "ipython",
    "version": 2
   },
   "file_extension": ".py",
   "mimetype": "text/x-python",
   "name": "python",
   "nbconvert_exporter": "python",
   "pygments_lexer": "ipython2",
   "version": "2.7.10"
  }
 },
 "nbformat": 4,
 "nbformat_minor": 2
}
