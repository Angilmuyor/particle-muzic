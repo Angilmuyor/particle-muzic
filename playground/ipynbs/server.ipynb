{
 "cells": [
  {
   "cell_type": "code",
   "execution_count": 1,
   "metadata": {},
   "outputs": [],
   "source": [
    "%load_ext autoreload\n",
    "%autoreload 2"
   ]
  },
  {
   "cell_type": "code",
   "execution_count": 2,
   "metadata": {},
   "outputs": [],
   "source": [
    "import sys\n",
    "python_path = '/Users/sgrinschpun/code/particle-muzic/python'\n",
    "sys.path.append(python_path)\n",
    "\n",
    "from phenomena.phenomena_client import Phenomena\n",
    "from phenomena.connection.phenomena_server import PhenomenaServer\n",
    "from phenomena.nodes.node_controller import NodeController"
   ]
  },
  {
   "cell_type": "code",
   "execution_count": 3,
   "metadata": {},
   "outputs": [
    {
     "name": "stdout",
     "output_type": "stream",
     "text": [
      "[<phenomena.particles.particle_action.ParticleEntryNode object at 0x112d6b1d0>, <phenomena.nodes.audiovideo_node.JsonRemoteAudioVideoNode object at 0x112d6b210>]\n",
      "[<phenomena.particles.particle_action.ParticleEntryNode object at 0x112d6b1d0>, <phenomena.nodes.audiovideo_node.JsonRemoteAudioVideoNode object at 0x112d6b210>, <phenomena.particles.particle_action.ParticleAccumulatorNode object at 0x112d6b250>]\n"
     ]
    }
   ],
   "source": [
    "server = PhenomenaServer()\n",
    "server.startServer()"
   ]
  },
  {
   "cell_type": "code",
   "execution_count": 66,
   "metadata": {},
   "outputs": [
    {
     "name": "stdout",
     "output_type": "stream",
     "text": [
      "{u'MODULE_PATH': u'node', u'COMMAND_ID': 63, u'PARAMS': {u'particle_name': u'K+', u'E': None, u'theta': 0, u'p': None}, u'COMMAND_NAME': u'ADD'}\n",
      "THIS:  K+ <type 'unicode'>\n",
      "0\n",
      "Accumulating particle: K+\n",
      "Wait for:  2.52348064631\n",
      "OK ! Outcoming message: type: 1 id 63 Name: ADD Module Path: node\n",
      "particle: K+ Will transform in:   New particles: \n",
      "pi+ 0.205138787009 0.718354530194\n",
      "pi0 0.205138787009 3.85994718378\n",
      "Accumulating particle: pi+\n",
      "Wait for:  2.76120252634\n",
      "Accumulating particle: pi0\n",
      "Wait for:  2.30125664974\n",
      "removing:  K+\n",
      "Values inside:  9\n",
      "particle: pi0 Will transform in:   New particles: \n",
      "gamma 0.187326211199 3.5761491011\n",
      "gamma 0.0582374716526 4.98122896863\n",
      "Accumulating particle: gamma\n",
      "Wait for:  10\n",
      "Accumulating particle: gamma\n",
      "Wait for:  10\n",
      "removing:  pi0\n",
      "Values inside:  10\n",
      "particle: pi+ Will transform in:   New particles: \n",
      "mu+ 0.11310266821 0.616312090347\n",
      "nu_mu 0.0933382529528 0.842105644104\n",
      "Accumulating particle: mu+\n",
      "Wait for:  2.41565025963\n",
      "Accumulating particle: nu_mu\n",
      "Wait for:  10\n",
      "removing:  pi+\n",
      "Values inside:  11\n",
      "particle: mu+ Will transform in:   New particles: \n",
      "nu_e 0.412303230437 0.802300975963\n",
      "e+ 1.21678114132 5.67224040618\n",
      "nu_mubar 2.2164107667 2.19516502319\n",
      "Accumulating particle: nu_e\n",
      "Wait for:  10\n",
      "Accumulating particle: e+\n",
      "Wait for:  10\n",
      "Accumulating particle: nu_mubar\n",
      "Wait for:  10\n",
      "removing:  mu+\n",
      "Values inside:  13\n",
      "particle: gamma Will transform in:   New particles: \n",
      "removing:  gamma\n",
      "Values inside:  12\n",
      "particle: gamma Will transform in:   New particles: \n",
      "removing:  gamma\n",
      "Values inside:  11\n",
      "particle: nu_mu Will transform in:   New particles: \n",
      "removing:  nu_mu\n",
      "Values inside:  10\n",
      "particle: e+ Will transform in:   New particles: \n",
      "removing:  e+\n",
      "Values inside:  9\n",
      "particle: nu_e Will transform in:   New particles: \n",
      "removing:  nu_e\n",
      "Values inside:  8\n",
      "particle: nu_mubar Will transform in:   New particles: \n",
      "removing:  nu_mubar\n",
      "Values inside:  7\n"
     ]
    }
   ],
   "source": [
    "phenomena = Phenomena()\n",
    "for i in range(1):\n",
    "    print phenomena.addParticle(\"K+\")"
   ]
  },
  {
   "cell_type": "code",
   "execution_count": null,
   "metadata": {},
   "outputs": [],
   "source": []
  }
 ],
 "metadata": {
  "kernelspec": {
   "display_name": "particles",
   "language": "python",
   "name": "particles"
  },
  "language_info": {
   "codemirror_mode": {
    "name": "ipython",
    "version": 2
   },
   "file_extension": ".py",
   "mimetype": "text/x-python",
   "name": "python",
   "nbconvert_exporter": "python",
   "pygments_lexer": "ipython2",
   "version": "2.7.10"
  }
 },
 "nbformat": 4,
 "nbformat_minor": 2
}
