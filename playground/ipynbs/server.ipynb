{
 "cells": [
  {
   "cell_type": "code",
   "execution_count": 1,
   "metadata": {},
   "outputs": [],
   "source": [
    "%load_ext autoreload\n",
    "%autoreload 2"
   ]
  },
  {
   "cell_type": "code",
   "execution_count": 67,
   "metadata": {},
   "outputs": [],
   "source": [
    "import sys, math\n",
    "python_path = '/Users/sgrinschpun/code/particle-muzic/python'\n",
    "sys.path.append(python_path)\n",
    "\n",
    "from phenomena.phenomena_client import Phenomena\n",
    "from phenomena.connection.phenomena_server import PhenomenaServer\n",
    "from phenomena.nodes.node_controller import NodeController"
   ]
  },
  {
   "cell_type": "code",
   "execution_count": 3,
   "metadata": {},
   "outputs": [
    {
     "name": "stdout",
     "output_type": "stream",
     "text": [
      "[<phenomena.particles.particle_action.ParticleEntryNode object at 0x112d6b1d0>, <phenomena.nodes.audiovideo_node.JsonRemoteAudioVideoNode object at 0x112d6b210>]\n",
      "[<phenomena.particles.particle_action.ParticleEntryNode object at 0x112d6b1d0>, <phenomena.nodes.audiovideo_node.JsonRemoteAudioVideoNode object at 0x112d6b210>, <phenomena.particles.particle_action.ParticleAccumulatorNode object at 0x112d6b250>]\n"
     ]
    }
   ],
   "source": [
    "server = PhenomenaServer()\n",
    "server.startServer()"
   ]
  },
  {
   "cell_type": "code",
   "execution_count": 71,
   "metadata": {},
   "outputs": [
    {
     "name": "stdout",
     "output_type": "stream",
     "text": [
      "{u'MODULE_PATH': u'node', u'COMMAND_ID': 67, u'PARAMS': {u'particle_name': u'pi0', u'E': None, u'theta': -1.5707963267948966, u'p': 0.5}, u'COMMAND_NAME': u'ADD'}\n",
      "THIS:  pi0 <type 'unicode'>\n",
      "-1.57079632679\n",
      "Accumulating particle: pi0\n",
      "Wait for:  2.37780548173\n",
      "OK ! Outcoming message: type: 1 id 67 Name: ADD Module Path: node\n",
      "particle: pi0 Will transform in:   New particles: \n",
      "gamma 0.508144917846 -1.56014827996\n",
      "gamma 0.00975430053552 -0.982801582141\n",
      "Accumulating particle: gamma\n",
      "Wait for:  10\n",
      "Accumulating particle: gamma\n",
      "Wait for:  10\n",
      "removing:  pi0\n",
      "Values inside:  9\n",
      "particle: gamma Will transform in:   New particles: \n",
      "removing:  gamma\n",
      "Values inside:  8\n",
      "particle: gamma Will transform in:   New particles: \n",
      "removing:  gamma\n",
      "Values inside:  7\n"
     ]
    }
   ],
   "source": [
    "phenomena = Phenomena()\n",
    "for i in range(1):\n",
    "    print phenomena.addParticle(\"pi0\", theta=-math.pi/2, p = 0.5)"
   ]
  },
  {
   "cell_type": "code",
   "execution_count": null,
   "metadata": {},
   "outputs": [],
   "source": []
  }
 ],
 "metadata": {
  "kernelspec": {
   "display_name": "particles",
   "language": "python",
   "name": "particles"
  },
  "language_info": {
   "codemirror_mode": {
    "name": "ipython",
    "version": 2
   },
   "file_extension": ".py",
   "mimetype": "text/x-python",
   "name": "python",
   "nbconvert_exporter": "python",
   "pygments_lexer": "ipython2",
   "version": "2.7.10"
  }
 },
 "nbformat": 4,
 "nbformat_minor": 2
}
