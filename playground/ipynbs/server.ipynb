{
 "cells": [
  {
   "cell_type": "code",
   "execution_count": 2,
   "metadata": {},
   "outputs": [],
   "source": [
    "%load_ext autoreload\n",
    "%autoreload 2"
   ]
  },
  {
   "cell_type": "code",
   "execution_count": 7,
   "metadata": {},
   "outputs": [],
   "source": [
    "import sys\n",
    "python_path = '/Users/sgrinschpun/code/particle-muzic/python'\n",
    "sys.path.append(python_path)\n",
    "\n",
    "from phenomena.phenomena_client import Phenomena\n",
    "from phenomena.connection.phenomena_server import PhenomenaServer\n",
    "from phenomena.nodes.node_controller import NodeController"
   ]
  },
  {
   "cell_type": "code",
   "execution_count": 4,
   "metadata": {},
   "outputs": [
    {
     "name": "stdout",
     "output_type": "stream",
     "text": [
      "[<phenomena.particles.particle_action.ParticleEntryNode object at 0x1109f6910>, <phenomena.nodes.audiovideo_node.JsonRemoteAudioVideoNode object at 0x1109f6950>]\n",
      "[<phenomena.particles.particle_action.ParticleEntryNode object at 0x1109f6910>, <phenomena.nodes.audiovideo_node.JsonRemoteAudioVideoNode object at 0x1109f6950>, <phenomena.particles.particle_action.ParticleAccumulatorNode object at 0x1109f6990>]\n"
     ]
    }
   ],
   "source": [
    "server = PhenomenaServer()\n",
    "server.startServer()"
   ]
  },
  {
   "cell_type": "code",
   "execution_count": 9,
   "metadata": {},
   "outputs": [
    {
     "name": "stdout",
     "output_type": "stream",
     "text": [
      "{u'MODULE_PATH': u'node', u'COMMAND_ID': 7, u'PARAMS': {u'particle_name': u'K+', u'E': None, u'theta': 0, u'p': 5}, u'COMMAND_NAME': u'ADD'}\n",
      "THIS:  K+ <type 'unicode'>\n",
      "Accumulating particle: K+\n",
      "Wait for:  2.4342014305\n",
      "OK ! Outcoming message: type: 1 id 7 Name: ADD Module Path: node\n",
      "{u'MODULE_PATH': u'node', u'COMMAND_ID': 8, u'PARAMS': {u'particle_name': u'K+', u'E': None, u'theta': 0, u'p': 5}, u'COMMAND_NAME': u'ADD'}\n",
      "THIS:  K+ <type 'unicode'>\n",
      "Accumulating particle: K+\n",
      "Wait for:  3.38441554561\n",
      "OK ! Outcoming message: type: 1 id 8 Name: ADD Module Path: node\n",
      "particle: K+ Will transform in:   New particles: \n",
      "mu+ 0.235533044482 6.10068016517\n",
      "nu_mu 0.235533044482 9.24227281876\n",
      "Accumulating particle: mu+\n",
      "Wait for:  2.46545381513\n",
      "Accumulating particle: nu_mu\n",
      "Wait for:  10\n",
      "removing:  K+\n",
      "Values inside:  3\n",
      "particle: K+ Will transform in:   New particles: \n",
      "mu+ 0.235533044482 6.30555295532\n",
      "nu_mu 0.235533044482 9.44714560891\n",
      "Accumulating particle: mu+\n",
      "Wait for:  2.47421466954\n",
      "Accumulating particle: nu_mu\n",
      "Wait for:  10\n",
      "removing:  K+\n",
      "Values inside:  4\n",
      "particle: mu+ Will transform in:   New particles: \n",
      "nu_e 4.18109722319 1.79366251179\n",
      "e+ 4.91600963857 2.59222225668\n",
      "nu_mubar 3.14632744312 4.6309603966\n",
      "Accumulating particle: nu_e\n",
      "Wait for:  10\n",
      "Accumulating particle: e+\n",
      "Wait for:  10\n",
      "Accumulating particle: nu_mubar\n",
      "Wait for:  10\n",
      "removing:  mu+\n",
      "Values inside:  6\n",
      "particle: mu+ Will transform in:   New particles: \n",
      "nu_e 3.0603147198 2.66753383295\n",
      "e+ 1.49687104099 3.79952040104\n",
      "nu_mubar 1.58703627298 2.88572985763\n",
      "Accumulating particle: nu_e\n",
      "Wait for:  10\n",
      "Accumulating particle: e+\n",
      "Wait for:  10\n",
      "Accumulating particle: nu_mubar\n",
      "Wait for:  10\n",
      "removing:  mu+\n",
      "Values inside:  8\n",
      "particle: nu_mu Will transform in:   New particles: \n",
      "removing:  nu_mu\n",
      "Values inside:  7\n",
      "particle: nu_mu Will transform in:   New particles: \n",
      "removing:  nu_mu\n",
      "Values inside:  6\n",
      "particle: nu_e Will transform in:   New particles: \n",
      "removing:  nu_e\n",
      "Values inside:  5\n",
      "particle: e+ Will transform in:   New particles: \n",
      "removing:  e+\n",
      "Values inside:  4\n",
      "particle: nu_mubar Will transform in:   New particles: \n",
      "removing:  nu_mubar\n",
      "Values inside:  3\n",
      "particle: e+ Will transform in:   New particles: \n",
      "removing:  e+\n",
      "Values inside:  2\n",
      "particle: nu_e Will transform in:   New particles: \n",
      "removing:  nu_e\n",
      "Values inside:  1\n",
      "particle: nu_mubar Will transform in:   New particles: \n",
      "removing:  nu_mubar\n",
      "Values inside:  0\n"
     ]
    }
   ],
   "source": [
    "phenomena = Phenomena()\n",
    "for i in range(2):\n",
    "    print phenomena.addParticle(\"K+\", theta=0, p=5)"
   ]
  },
  {
   "cell_type": "code",
   "execution_count": null,
   "metadata": {},
   "outputs": [],
   "source": []
  }
 ],
 "metadata": {
  "kernelspec": {
   "display_name": "particles",
   "language": "python",
   "name": "particles"
  },
  "language_info": {
   "codemirror_mode": {
    "name": "ipython",
    "version": 2
   },
   "file_extension": ".py",
   "mimetype": "text/x-python",
   "name": "python",
   "nbconvert_exporter": "python",
   "pygments_lexer": "ipython2",
   "version": "2.7.10"
  }
 },
 "nbformat": 4,
 "nbformat_minor": 2
}
