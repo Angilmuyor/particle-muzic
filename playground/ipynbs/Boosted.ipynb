{
 "cells": [
  {
   "cell_type": "code",
   "execution_count": 1,
   "metadata": {},
   "outputs": [],
   "source": [
    "%load_ext autoreload\n",
    "%autoreload 2"
   ]
  },
  {
   "cell_type": "code",
   "execution_count": 23,
   "metadata": {},
   "outputs": [],
   "source": [
    "import sys\n",
    "python_path = '/Users/sgrinschpun/code/particle-muzic/python'\n",
    "sys.path.append(python_path)\n",
    "\n",
    "import math, random\n",
    "\n",
    "from phenomena.particles.particle import ParticleDT\n",
    "from phenomena.particles.particle_boosted import ParticleBoosted\n",
    "from phenomena.particles.kinematics.decay import LABcalc\n",
    "from phenomena.particles.kinematics.parameters import boostParams"
   ]
  },
  {
   "cell_type": "code",
   "execution_count": 21,
   "metadata": {},
   "outputs": [],
   "source": [
    "Kplus= ParticleBoosted('K+',p=0.5)"
   ]
  },
  {
   "cell_type": "code",
   "execution_count": 22,
   "metadata": {},
   "outputs": [
    {
     "data": {
      "text/plain": [
       "17619.563715369146"
      ]
     },
     "execution_count": 22,
     "metadata": {},
     "output_type": "execute_result"
    }
   ],
   "source": [
    "Kplus.lifetime"
   ]
  },
  {
   "cell_type": "code",
   "execution_count": 19,
   "metadata": {},
   "outputs": [],
   "source": [
    "Kplus0= ParticleBoosted('K+')"
   ]
  },
  {
   "cell_type": "code",
   "execution_count": 20,
   "metadata": {},
   "outputs": [
    {
     "data": {
      "text/plain": [
       "12379.383374083129"
      ]
     },
     "execution_count": 20,
     "metadata": {},
     "output_type": "execute_result"
    }
   ],
   "source": [
    "Kplus0.lifetime"
   ]
  },
  {
   "cell_type": "code",
   "execution_count": 24,
   "metadata": {},
   "outputs": [
    {
     "data": {
      "text/plain": [
       "[{'name': 'K-', 'p': 4.573584549936102, 'theta': 0.051866597927371784},\n",
       " {'name': 'pi0', 'p': 0.9622370926944219, 'theta': -0.24897973699552894}]"
      ]
     },
     "execution_count": 24,
     "metadata": {},
     "output_type": "execute_result"
    }
   ],
   "source": [
    "pi = ParticleBoosted('K*(892)-', p=5.5)\n",
    "pi._decayvalues"
   ]
  },
  {
   "cell_type": "code",
   "execution_count": null,
   "metadata": {},
   "outputs": [],
   "source": []
  },
  {
   "cell_type": "code",
   "execution_count": 98,
   "metadata": {},
   "outputs": [
    {
     "data": {
      "text/plain": [
       "[{'name': 'nubar_e', 'p': 4.862618265934341, 'theta': 3.758093423760015},\n",
       " {'name': 'e-', 'p': 3.8050011666735934, 'theta': 1.8809763035182643},\n",
       " {'name': 'nu_mu', 'p': 4.559166218929445, 'theta': 2.765843435438739}]"
      ]
     },
     "execution_count": 98,
     "metadata": {},
     "output_type": "execute_result"
    }
   ],
   "source": [
    "mu = ParticleBoosted('mu-')\n",
    "mu._decayvalues"
   ]
  },
  {
   "cell_type": "code",
   "execution_count": 9,
   "metadata": {},
   "outputs": [],
   "source": [
    "import pypdt\n",
    "tbl = pypdt.ParticleDataTable()\n",
    "part_dict = {}\n",
    "for p in tbl:\n",
    "    part_dict[p.name]= p.id"
   ]
  }
 ],
 "metadata": {
  "kernelspec": {
   "display_name": "particles",
   "language": "python",
   "name": "particles"
  },
  "language_info": {
   "codemirror_mode": {
    "name": "ipython",
    "version": 2
   },
   "file_extension": ".py",
   "mimetype": "text/x-python",
   "name": "python",
   "nbconvert_exporter": "python",
   "pygments_lexer": "ipython2",
   "version": "2.7.10"
  }
 },
 "nbformat": 4,
 "nbformat_minor": 2
}
