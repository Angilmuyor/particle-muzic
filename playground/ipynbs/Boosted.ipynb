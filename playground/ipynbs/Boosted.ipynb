{
 "cells": [
  {
   "cell_type": "code",
   "execution_count": 1,
   "metadata": {},
   "outputs": [],
   "source": [
    "%load_ext autoreload\n",
    "%autoreload 2"
   ]
  },
  {
   "cell_type": "code",
   "execution_count": 99,
   "metadata": {},
   "outputs": [],
   "source": [
    "import sys\n",
    "python_path = '/Users/sgrinschpun/code/particle-muzic/python'\n",
    "sys.path.append(python_path)\n",
    "\n",
    "import math, random\n",
    "\n",
    "from phenomena.particles.particle import ParticleDT\n",
    "from phenomena.particles.particle_boosted import ParticleBoosted\n",
    "from phenomena.particles.kinematics.twobody import CMcalc, LABcalc"
   ]
  },
  {
   "cell_type": "code",
   "execution_count": 105,
   "metadata": {},
   "outputs": [
    {
     "data": {
      "text/plain": [
       "[{'name': 'K0', 'p': 5.205681515985558, 'theta': -0.01971979636945453},\n",
       " {'name': 'pi-', 'p': 0.31266092390524286, 'theta': 0.33450916558045396}]"
      ]
     },
     "execution_count": 105,
     "metadata": {},
     "output_type": "execute_result"
    }
   ],
   "source": [
    "pi = ParticleBoosted('K*(892)-', p=5.5)\n",
    "pi._decayvalues"
   ]
  },
  {
   "cell_type": "code",
   "execution_count": 98,
   "metadata": {},
   "outputs": [
    {
     "data": {
      "text/plain": [
       "[{'name': 'nubar_e', 'p': 4.862618265934341, 'theta': 3.758093423760015},\n",
       " {'name': 'e-', 'p': 3.8050011666735934, 'theta': 1.8809763035182643},\n",
       " {'name': 'nu_mu', 'p': 4.559166218929445, 'theta': 2.765843435438739}]"
      ]
     },
     "execution_count": 98,
     "metadata": {},
     "output_type": "execute_result"
    }
   ],
   "source": [
    "mu = ParticleBoosted('mu-')\n",
    "mu._decayvalues"
   ]
  },
  {
   "cell_type": "code",
   "execution_count": 69,
   "metadata": {},
   "outputs": [
    {
     "data": {
      "text/plain": [
       "-0.5735764363510464"
      ]
     },
     "execution_count": 69,
     "metadata": {},
     "output_type": "execute_result"
    }
   ],
   "source": [
    "angle2 = angle + math.pi\n",
    "math.cos(angle2)"
   ]
  },
  {
   "cell_type": "code",
   "execution_count": 24,
   "metadata": {},
   "outputs": [
    {
     "data": {
      "text/plain": [
       "54.99999999999999"
      ]
     },
     "execution_count": 24,
     "metadata": {},
     "output_type": "execute_result"
    }
   ],
   "source": [
    "math.degrees(math.atan(pi._decayvalues._pxy2[0]['y']/pi._decayvalues._pxy2[0]['x']))"
   ]
  },
  {
   "cell_type": "code",
   "execution_count": null,
   "metadata": {},
   "outputs": [],
   "source": [
    "# change calculations arguments to array\n",
    "# change claculations to object no class methods\n",
    "\n",
    "#ParticleDT has to be initialized with  an angle  or ParticleBoosted????\n",
    "# the angle of child particles = angle of parent + boosted randomangle \n",
    "\n",
    "\n",
    "\n",
    "\n",
    "# need to generalize for n particles\n",
    "p1x + p2x + p3x = p0\n",
    "p1.cosa1 +p2.cosa2 + p3.cosa3 = p0\n",
    "p1y + p2y + p3y = 0\n",
    "p1.sina1+p2.sina2+p3.sina3 =0\n",
    "\n",
    "\n",
    "\n",
    "E1+E2+E3= E0\n",
    "\n",
    "\n",
    "\n",
    "\n",
    "\n"
   ]
  },
  {
   "cell_type": "code",
   "execution_count": 53,
   "metadata": {},
   "outputs": [
    {
     "ename": "TypeError",
     "evalue": "super(type, obj): obj must be an instance or subtype of type",
     "output_type": "error",
     "traceback": [
      "\u001b[0;31m---------------------------------------------------------------------------\u001b[0m",
      "\u001b[0;31mTypeError\u001b[0m                                 Traceback (most recent call last)",
      "\u001b[0;32m<ipython-input-53-cb28c09719f0>\u001b[0m in \u001b[0;36m<module>\u001b[0;34m()\u001b[0m\n\u001b[0;32m----> 1\u001b[0;31m \u001b[0mpi\u001b[0m \u001b[0;34m=\u001b[0m \u001b[0mParticleBoosted\u001b[0m\u001b[0;34m(\u001b[0m\u001b[0;34m'K*(892)0'\u001b[0m\u001b[0;34m,\u001b[0m\u001b[0mp\u001b[0m\u001b[0;34m=\u001b[0m\u001b[0;36m5\u001b[0m\u001b[0;34m)\u001b[0m\u001b[0;34m\u001b[0m\u001b[0m\n\u001b[0m",
      "\u001b[0;32m/Users/sgrinschpun/code/particle-muzic/python/phenomena/particles/particle_boosted.py\u001b[0m in \u001b[0;36m__init__\u001b[0;34m(self, name, p, E, theta)\u001b[0m\n\u001b[1;32m     10\u001b[0m \u001b[0;34m\u001b[0m\u001b[0m\n\u001b[1;32m     11\u001b[0m     \u001b[0;32mdef\u001b[0m \u001b[0m__init__\u001b[0m\u001b[0;34m(\u001b[0m\u001b[0mself\u001b[0m\u001b[0;34m,\u001b[0m \u001b[0mname\u001b[0m\u001b[0;34m,\u001b[0m \u001b[0mp\u001b[0m\u001b[0;34m=\u001b[0m\u001b[0;36m0\u001b[0m\u001b[0;34m,\u001b[0m \u001b[0mE\u001b[0m\u001b[0;34m=\u001b[0m\u001b[0;36m0\u001b[0m\u001b[0;34m,\u001b[0m \u001b[0mtheta\u001b[0m\u001b[0;34m=\u001b[0m\u001b[0;36m0\u001b[0m\u001b[0;34m)\u001b[0m\u001b[0;34m:\u001b[0m \u001b[0;31m#initialize either with momentum (p) or energy (e)\u001b[0m\u001b[0;34m\u001b[0m\u001b[0m\n\u001b[0;32m---> 12\u001b[0;31m         \u001b[0msuper\u001b[0m\u001b[0;34m(\u001b[0m\u001b[0mParticleBoosted\u001b[0m\u001b[0;34m,\u001b[0m \u001b[0mself\u001b[0m\u001b[0;34m)\u001b[0m\u001b[0;34m.\u001b[0m\u001b[0m__init__\u001b[0m\u001b[0;34m(\u001b[0m\u001b[0mname\u001b[0m\u001b[0;34m)\u001b[0m \u001b[0;31m#inherit properties from ParticleDT\u001b[0m\u001b[0;34m\u001b[0m\u001b[0m\n\u001b[0m\u001b[1;32m     13\u001b[0m \u001b[0;34m\u001b[0m\u001b[0m\n\u001b[1;32m     14\u001b[0m         \u001b[0mself\u001b[0m\u001b[0;34m.\u001b[0m\u001b[0m_set_boostvalues\u001b[0m\u001b[0;34m(\u001b[0m\u001b[0mp\u001b[0m\u001b[0;34m,\u001b[0m\u001b[0mE\u001b[0m\u001b[0;34m)\u001b[0m\u001b[0;34m\u001b[0m\u001b[0m\n",
      "\u001b[0;31mTypeError\u001b[0m: super(type, obj): obj must be an instance or subtype of type"
     ]
    }
   ],
   "source": [
    "pi = ParticleBoosted('K*(892)0',p=5)"
   ]
  },
  {
   "cell_type": "code",
   "execution_count": 78,
   "metadata": {},
   "outputs": [
    {
     "data": {
      "text/plain": [
       "[2.5015277098804978, -2.5015277098804978]"
      ]
     },
     "execution_count": 78,
     "metadata": {},
     "output_type": "execute_result"
    }
   ],
   "source": [
    "pi._decayAnglesCM"
   ]
  },
  {
   "cell_type": "code",
   "execution_count": 79,
   "metadata": {},
   "outputs": [
    {
     "data": {
      "text/plain": [
       "[0.10977820350742061, 0.029791976492579385]"
      ]
     },
     "execution_count": 79,
     "metadata": {},
     "output_type": "execute_result"
    }
   ],
   "source": [
    "pi.decayEnergies"
   ]
  },
  {
   "cell_type": "code",
   "execution_count": 80,
   "metadata": {},
   "outputs": [
    {
     "data": {
      "text/plain": [
       "['mu+', 'nu_mu']"
      ]
     },
     "execution_count": 80,
     "metadata": {},
     "output_type": "execute_result"
    }
   ],
   "source": [
    "pi.decay"
   ]
  },
  {
   "cell_type": "code",
   "execution_count": 81,
   "metadata": {},
   "outputs": [
    {
     "data": {
      "text/plain": [
       "[{'x': 3.0763746776657452, 'y': 0.01779318440906706},\n",
       " {'x': 1.923625322334256, 'y': -0.01779318440906706}]"
      ]
     },
     "execution_count": 81,
     "metadata": {},
     "output_type": "execute_result"
    }
   ],
   "source": [
    "pi.decayPxy"
   ]
  },
  {
   "cell_type": "code",
   "execution_count": 87,
   "metadata": {},
   "outputs": [
    {
     "ename": "ValueError",
     "evalue": "non-integer stop for randrange()",
     "output_type": "error",
     "traceback": [
      "\u001b[0;31m---------------------------------------------------------------------------\u001b[0m",
      "\u001b[0;31mValueError\u001b[0m                                Traceback (most recent call last)",
      "\u001b[0;32m<ipython-input-87-1d4e81dba471>\u001b[0m in \u001b[0;36m<module>\u001b[0;34m()\u001b[0m\n\u001b[0;32m----> 1\u001b[0;31m \u001b[0mrandom\u001b[0m\u001b[0;34m.\u001b[0m\u001b[0mrandrange\u001b[0m\u001b[0;34m(\u001b[0m\u001b[0;36m0\u001b[0m\u001b[0;34m,\u001b[0m\u001b[0;36m2\u001b[0m\u001b[0;34m*\u001b[0m\u001b[0mmath\u001b[0m\u001b[0;34m.\u001b[0m\u001b[0mpi\u001b[0m\u001b[0;34m)\u001b[0m\u001b[0;34m\u001b[0m\u001b[0m\n\u001b[0m",
      "\u001b[0;32m/System/Library/Frameworks/Python.framework/Versions/2.7/lib/python2.7/random.pyc\u001b[0m in \u001b[0;36mrandrange\u001b[0;34m(self, start, stop, step, _int, _maxwidth)\u001b[0m\n\u001b[1;32m    196\u001b[0m         \u001b[0mistop\u001b[0m \u001b[0;34m=\u001b[0m \u001b[0m_int\u001b[0m\u001b[0;34m(\u001b[0m\u001b[0mstop\u001b[0m\u001b[0;34m)\u001b[0m\u001b[0;34m\u001b[0m\u001b[0m\n\u001b[1;32m    197\u001b[0m         \u001b[0;32mif\u001b[0m \u001b[0mistop\u001b[0m \u001b[0;34m!=\u001b[0m \u001b[0mstop\u001b[0m\u001b[0;34m:\u001b[0m\u001b[0;34m\u001b[0m\u001b[0m\n\u001b[0;32m--> 198\u001b[0;31m             \u001b[0;32mraise\u001b[0m \u001b[0mValueError\u001b[0m\u001b[0;34m,\u001b[0m \u001b[0;34m\"non-integer stop for randrange()\"\u001b[0m\u001b[0;34m\u001b[0m\u001b[0m\n\u001b[0m\u001b[1;32m    199\u001b[0m         \u001b[0mwidth\u001b[0m \u001b[0;34m=\u001b[0m \u001b[0mistop\u001b[0m \u001b[0;34m-\u001b[0m \u001b[0mistart\u001b[0m\u001b[0;34m\u001b[0m\u001b[0m\n\u001b[1;32m    200\u001b[0m         \u001b[0;32mif\u001b[0m \u001b[0mstep\u001b[0m \u001b[0;34m==\u001b[0m \u001b[0;36m1\u001b[0m \u001b[0;32mand\u001b[0m \u001b[0mwidth\u001b[0m \u001b[0;34m>\u001b[0m \u001b[0;36m0\u001b[0m\u001b[0;34m:\u001b[0m\u001b[0;34m\u001b[0m\u001b[0m\n",
      "\u001b[0;31mValueError\u001b[0m: non-integer stop for randrange()"
     ]
    }
   ],
   "source": [
    "random.randrange(0,2*math.pi)"
   ]
  },
  {
   "cell_type": "code",
   "execution_count": 84,
   "metadata": {},
   "outputs": [
    {
     "data": {
      "text/plain": [
       "[0.005783751287917914, -0.009249554355539485]"
      ]
     },
     "execution_count": 84,
     "metadata": {},
     "output_type": "execute_result"
    }
   ],
   "source": [
    "pi.decayThetaLAB"
   ]
  },
  {
   "cell_type": "code",
   "execution_count": 85,
   "metadata": {},
   "outputs": [],
   "source": [
    "mu = ParticleBoosted('mu+',p=pi.decayP[0])"
   ]
  },
  {
   "cell_type": "code",
   "execution_count": 86,
   "metadata": {},
   "outputs": [
    {
     "data": {
      "text/plain": [
       "0.9994107482576933"
      ]
     },
     "execution_count": 86,
     "metadata": {},
     "output_type": "execute_result"
    }
   ],
   "source": [
    "mu.beta"
   ]
  },
  {
   "cell_type": "code",
   "execution_count": 3,
   "metadata": {},
   "outputs": [
    {
     "data": {
      "text/plain": [
       "1.0"
      ]
     },
     "execution_count": 3,
     "metadata": {},
     "output_type": "execute_result"
    }
   ],
   "source": [
    "pi = ParticleBoosted('pi+',p=0)\n",
    "mu = ParticleBoosted('mu+',p=pi.decayP[0])\n",
    "nu = ParticleBoosted('nu_mu',p=pi.decayP[1])\n",
    "mu.beta\n",
    "nu.beta"
   ]
  },
  {
   "cell_type": "code",
   "execution_count": 5,
   "metadata": {},
   "outputs": [
    {
     "data": {
      "text/plain": [
       "[1.0, 5.0]"
      ]
     },
     "execution_count": 5,
     "metadata": {},
     "output_type": "execute_result"
    }
   ],
   "source": [
    "a=[0.0,3.0]\n",
    "b=[1.0,2.0]\n",
    "[a[i]+b[i] for i in range(len(a))]"
   ]
  },
  {
   "cell_type": "code",
   "execution_count": 23,
   "metadata": {},
   "outputs": [
    {
     "ename": "TypeError",
     "evalue": "list indices must be integers, not NoneType",
     "output_type": "error",
     "traceback": [
      "\u001b[0;31m---------------------------------------------------------------------------\u001b[0m",
      "\u001b[0;31mTypeError\u001b[0m                                 Traceback (most recent call last)",
      "\u001b[0;32m<ipython-input-23-bfeefcdca326>\u001b[0m in \u001b[0;36m<module>\u001b[0;34m()\u001b[0m\n\u001b[0;32m----> 1\u001b[0;31m \u001b[0mB\u001b[0m \u001b[0;34m=\u001b[0m \u001b[0mParticleDT\u001b[0m\u001b[0;34m(\u001b[0m\u001b[0;34m'B-'\u001b[0m\u001b[0;34m)\u001b[0m\u001b[0;34m\u001b[0m\u001b[0m\n\u001b[0m\u001b[1;32m      2\u001b[0m \u001b[0mB\u001b[0m\u001b[0;34m.\u001b[0m\u001b[0mdecay\u001b[0m\u001b[0;34m\u001b[0m\u001b[0m\n",
      "\u001b[0;32m/Users/sgrinschpun/code/particle-muzic/python/phenomena/particles/particle.pyc\u001b[0m in \u001b[0;36m__init__\u001b[0;34m(self, name, parent)\u001b[0m\n\u001b[1;32m    140\u001b[0m         \u001b[0mself\u001b[0m\u001b[0;34m.\u001b[0m\u001b[0m_set_composition\u001b[0m\u001b[0;34m(\u001b[0m\u001b[0;34m)\u001b[0m \u001b[0;31m# Particle quark compsition in format [[q1,q2],[q3,q4],...] taken from json. Check unicode vs string\u001b[0m\u001b[0;34m\u001b[0m\u001b[0m\n\u001b[1;32m    141\u001b[0m         \u001b[0mself\u001b[0m\u001b[0;34m.\u001b[0m\u001b[0m_set_lifetime_ren\u001b[0m\u001b[0;34m(\u001b[0m\u001b[0;34m)\u001b[0m \u001b[0;31m#Renormalization of the lifetime\u001b[0m\u001b[0;34m\u001b[0m\u001b[0m\n\u001b[0;32m--> 142\u001b[0;31m         \u001b[0mself\u001b[0m\u001b[0;34m.\u001b[0m\u001b[0m_set_decay\u001b[0m\u001b[0;34m(\u001b[0m\u001b[0;34m)\u001b[0m \u001b[0;31m# Particle decay channel chosen\u001b[0m\u001b[0;34m\u001b[0m\u001b[0m\n\u001b[0m\u001b[1;32m    143\u001b[0m         \u001b[0mself\u001b[0m\u001b[0;34m.\u001b[0m\u001b[0m_set_time_to_decay\u001b[0m\u001b[0;34m(\u001b[0m\u001b[0;34m)\u001b[0m  \u001b[0;31m# Particle time lived before decay, renormalized\u001b[0m\u001b[0;34m\u001b[0m\u001b[0m\n\u001b[1;32m    144\u001b[0m         \u001b[0mself\u001b[0m\u001b[0;34m.\u001b[0m\u001b[0m_setParent\u001b[0m\u001b[0;34m(\u001b[0m\u001b[0mparent\u001b[0m\u001b[0;34m)\u001b[0m\u001b[0;34m\u001b[0m\u001b[0m\n",
      "\u001b[0;32m/Users/sgrinschpun/code/particle-muzic/python/phenomena/particles/particle.pyc\u001b[0m in \u001b[0;36m_set_decay\u001b[0;34m(self)\u001b[0m\n\u001b[1;32m    271\u001b[0m             \u001b[0;32mtry\u001b[0m\u001b[0;34m:\u001b[0m\u001b[0;34m\u001b[0m\u001b[0m\n\u001b[1;32m    272\u001b[0m                 \u001b[0mchoice\u001b[0m \u001b[0;34m=\u001b[0m \u001b[0mself\u001b[0m\u001b[0;34m.\u001b[0m\u001b[0m_weighted_choice\u001b[0m\u001b[0;34m(\u001b[0m\u001b[0mself\u001b[0m\u001b[0;34m.\u001b[0m\u001b[0m_build_weights\u001b[0m\u001b[0;34m(\u001b[0m\u001b[0;34m)\u001b[0m\u001b[0;34m[\u001b[0m\u001b[0;36m0\u001b[0m\u001b[0;34m]\u001b[0m\u001b[0;34m,\u001b[0m\u001b[0mself\u001b[0m\u001b[0;34m.\u001b[0m\u001b[0m_build_weights\u001b[0m\u001b[0;34m(\u001b[0m\u001b[0;34m)\u001b[0m\u001b[0;34m[\u001b[0m\u001b[0;36m1\u001b[0m\u001b[0;34m]\u001b[0m\u001b[0;34m)\u001b[0m\u001b[0;34m\u001b[0m\u001b[0m\n\u001b[0;32m--> 273\u001b[0;31m                 \u001b[0mchannel\u001b[0m \u001b[0;34m=\u001b[0m \u001b[0mself\u001b[0m\u001b[0;34m.\u001b[0m\u001b[0m_decay_channels\u001b[0m\u001b[0;34m[\u001b[0m\u001b[0mchoice\u001b[0m\u001b[0;34m]\u001b[0m\u001b[0;34m[\u001b[0m\u001b[0;36m1\u001b[0m\u001b[0;34m]\u001b[0m\u001b[0;34m\u001b[0m\u001b[0m\n\u001b[0m\u001b[1;32m    274\u001b[0m                 \u001b[0;32mfor\u001b[0m \u001b[0mpart\u001b[0m \u001b[0;32min\u001b[0m \u001b[0mchannel\u001b[0m\u001b[0;34m:\u001b[0m\u001b[0;34m\u001b[0m\u001b[0m\n\u001b[1;32m    275\u001b[0m                     \u001b[0;32mif\u001b[0m \u001b[0mpart\u001b[0m \u001b[0;32min\u001b[0m \u001b[0mquarks\u001b[0m\u001b[0;34m.\u001b[0m\u001b[0mvalues\u001b[0m\u001b[0;34m(\u001b[0m\u001b[0;34m)\u001b[0m\u001b[0;34m:\u001b[0m\u001b[0;34m\u001b[0m\u001b[0m\n",
      "\u001b[0;31mTypeError\u001b[0m: list indices must be integers, not NoneType"
     ]
    }
   ],
   "source": [
    "B = ParticleDT('B-')\n",
    "B.decay"
   ]
  },
  {
   "cell_type": "code",
   "execution_count": 18,
   "metadata": {},
   "outputs": [
    {
     "data": {
      "text/plain": [
       "['nubar_e', 'e-', 'D*(2007)0']"
      ]
     },
     "execution_count": 18,
     "metadata": {},
     "output_type": "execute_result"
    }
   ],
   "source": []
  },
  {
   "cell_type": "code",
   "execution_count": null,
   "metadata": {},
   "outputs": [],
   "source": []
  },
  {
   "cell_type": "code",
   "execution_count": null,
   "metadata": {},
   "outputs": [],
   "source": []
  },
  {
   "cell_type": "code",
   "execution_count": 9,
   "metadata": {},
   "outputs": [],
   "source": [
    "import pypdt\n",
    "tbl = pypdt.ParticleDataTable()\n",
    "part_dict = {}\n",
    "for p in tbl:\n",
    "    part_dict[p.name]= p.id"
   ]
  },
  {
   "cell_type": "code",
   "execution_count": 10,
   "metadata": {},
   "outputs": [
    {
     "data": {
      "text/plain": [
       "{'B(2)*(5747)+': 525,\n",
       " 'B(2)*(5747)-': -525,\n",
       " 'B(2)*(5747)0': 515,\n",
       " 'B(c)+': 541,\n",
       " 'B(c)-': -541,\n",
       " 'B(s)*0': 533,\n",
       " 'B(s)0': 531,\n",
       " 'B(s2)*(5840)0': 535,\n",
       " 'B*+': 523,\n",
       " 'B*-': -523,\n",
       " 'B*0': 513,\n",
       " 'B+': 521,\n",
       " 'B-': -521,\n",
       " 'B0': 511,\n",
       " 'D(0)*(2400)+': 10411,\n",
       " 'D(0)*(2400)-': -10411,\n",
       " 'D(0)*(2400)0': 10421,\n",
       " 'D(1)(2420)0': 10423,\n",
       " 'D(2)*(2460)+': 415,\n",
       " 'D(2)*(2460)-': -415,\n",
       " 'D(2)*(2460)0': 425,\n",
       " 'D(s)*+': 433,\n",
       " 'D(s)*-': -433,\n",
       " 'D(s)+': 431,\n",
       " 'D(s)-': -431,\n",
       " 'D(s0)*(2317)+': 10431,\n",
       " 'D(s0)*(2317)-': -10431,\n",
       " 'D(s1)(2460)+': 20433,\n",
       " 'D(s1)(2460)-': -20433,\n",
       " 'D(s1)(2536)+': 10433,\n",
       " 'D(s1)(2536)-': -10433,\n",
       " 'D(s2)*(2573)+': 435,\n",
       " 'D(s2)*(2573)-': -435,\n",
       " 'D*(2007)0': 423,\n",
       " 'D*(2010)+': 413,\n",
       " 'D*(2010)-': -413,\n",
       " 'D+': 411,\n",
       " 'D-': -411,\n",
       " 'D0': 421,\n",
       " 'Delta(1232)+': 2214,\n",
       " 'Delta(1232)++': 2224,\n",
       " 'Delta(1232)-': 1114,\n",
       " 'Delta(1232)--': -2224,\n",
       " 'Delta(1232)0': 2114,\n",
       " 'Delta(1600)+': 32214,\n",
       " 'Delta(1600)++': 32224,\n",
       " 'Delta(1600)-': 31114,\n",
       " 'Delta(1600)--': -32224,\n",
       " 'Delta(1600)0': 32114,\n",
       " 'Delta(1620)+': 2122,\n",
       " 'Delta(1620)++': 2222,\n",
       " 'Delta(1620)-': 1112,\n",
       " 'Delta(1620)--': -2222,\n",
       " 'Delta(1620)0': 1212,\n",
       " 'Delta(1700)+': 12214,\n",
       " 'Delta(1700)++': 12224,\n",
       " 'Delta(1700)-': 11114,\n",
       " 'Delta(1700)--': -12224,\n",
       " 'Delta(1700)0': 12114,\n",
       " 'Delta(1905)+': 2126,\n",
       " 'Delta(1905)++': 2226,\n",
       " 'Delta(1905)-': 1116,\n",
       " 'Delta(1905)--': -2226,\n",
       " 'Delta(1905)0': 1216,\n",
       " 'Delta(1910)+': 22122,\n",
       " 'Delta(1910)++': 22222,\n",
       " 'Delta(1910)-': 21112,\n",
       " 'Delta(1910)--': -22222,\n",
       " 'Delta(1910)0': 21212,\n",
       " 'Delta(1920)+': 22214,\n",
       " 'Delta(1920)++': 22224,\n",
       " 'Delta(1920)-': 21114,\n",
       " 'Delta(1920)--': -22224,\n",
       " 'Delta(1920)0': 22114,\n",
       " 'Delta(1930)+': 12126,\n",
       " 'Delta(1930)++': 12226,\n",
       " 'Delta(1930)-': 11116,\n",
       " 'Delta(1930)--': -12226,\n",
       " 'Delta(1930)0': 11216,\n",
       " 'Delta(1950)+': 2218,\n",
       " 'Delta(1950)++': 2228,\n",
       " 'Delta(1950)-': 1118,\n",
       " 'Delta(1950)--': -2228,\n",
       " 'Delta(1950)0': 2118,\n",
       " 'H0': 25,\n",
       " 'J/psi(1S)0': 443,\n",
       " 'K(0)*(1430)+': 10321,\n",
       " 'K(0)*(1430)-': -10321,\n",
       " 'K(0)*(1430)0': 10311,\n",
       " 'K(1)(1270)+': 10323,\n",
       " 'K(1)(1270)-': -10323,\n",
       " 'K(1)(1270)0': 10313,\n",
       " 'K(1)(1400)+': 20323,\n",
       " 'K(1)(1400)-': -20323,\n",
       " 'K(1)(1400)0': 20313,\n",
       " 'K(2)(1770)+': 10325,\n",
       " 'K(2)(1770)-': -10325,\n",
       " 'K(2)(1770)0': 10315,\n",
       " 'K(2)(1820)+': 20325,\n",
       " 'K(2)(1820)-': -20325,\n",
       " 'K(2)(1820)0': 20315,\n",
       " 'K(2)*(1430)+': 325,\n",
       " 'K(2)*(1430)-': -325,\n",
       " 'K(2)*(1430)0': 315,\n",
       " 'K(3)*(1780)+': 327,\n",
       " 'K(3)*(1780)-': -327,\n",
       " 'K(3)*(1780)0': 317,\n",
       " 'K(4)*(2045)+': 329,\n",
       " 'K(4)*(2045)-': -329,\n",
       " 'K(4)*(2045)0': 319,\n",
       " 'K(L)0': 130,\n",
       " 'K(S)0': 310,\n",
       " 'K*(1410)+': 100323,\n",
       " 'K*(1410)-': -100323,\n",
       " 'K*(1410)0': 100313,\n",
       " 'K*(1680)+': 30323,\n",
       " 'K*(1680)-': -30323,\n",
       " 'K*(1680)0': 30313,\n",
       " 'K*(892)+': 323,\n",
       " 'K*(892)-': -323,\n",
       " 'K*(892)0': 313,\n",
       " 'K+': 321,\n",
       " 'K-': -321,\n",
       " 'K0': 311,\n",
       " 'Lambda(1405)0': 13122,\n",
       " 'Lambda(1520)0': 3124,\n",
       " 'Lambda(1600)0': 23122,\n",
       " 'Lambda(1670)0': 33122,\n",
       " 'Lambda(1690)0': 13124,\n",
       " 'Lambda(1800)0': 43122,\n",
       " 'Lambda(1810)0': 53122,\n",
       " 'Lambda(1820)0': 3126,\n",
       " 'Lambda(1830)0': 13126,\n",
       " 'Lambda(1890)0': 23124,\n",
       " 'Lambda(2100)0': 3128,\n",
       " 'Lambda(2110)0': 23126,\n",
       " 'Lambda(b)0': 5122,\n",
       " 'Lambda(c)(2595)+': 14122,\n",
       " 'Lambda(c)(2595)-': -14122,\n",
       " 'Lambda(c)(2625)+': 104122,\n",
       " 'Lambda(c)(2625)-': -104122,\n",
       " 'Lambda(c)(2880)+': 204126,\n",
       " 'Lambda(c)(2880)-': -204126,\n",
       " 'Lambda(c)+': 4122,\n",
       " 'Lambda(c)-': -4122,\n",
       " 'Lambda0': 3122,\n",
       " 'N(1440)+': 12212,\n",
       " 'N(1440)-': -12212,\n",
       " 'N(1440)0': 12112,\n",
       " 'N(1520)+': 2124,\n",
       " 'N(1520)-': -2124,\n",
       " 'N(1520)0': 1214,\n",
       " 'N(1535)+': 22212,\n",
       " 'N(1535)-': -22212,\n",
       " 'N(1535)0': 22112,\n",
       " 'N(1650)+': 32212,\n",
       " 'N(1650)-': -32212,\n",
       " 'N(1650)0': 32112,\n",
       " 'N(1675)+': 2216,\n",
       " 'N(1675)-': -2216,\n",
       " 'N(1675)0': 2116,\n",
       " 'N(1680)+': 12216,\n",
       " 'N(1680)-': -12216,\n",
       " 'N(1680)0': 12116,\n",
       " 'N(1700)+': 22124,\n",
       " 'N(1700)-': -22124,\n",
       " 'N(1700)0': 21214,\n",
       " 'N(1710)+': 42212,\n",
       " 'N(1710)-': -42212,\n",
       " 'N(1710)0': 42112,\n",
       " 'N(1720)+': 32124,\n",
       " 'N(1720)-': -32124,\n",
       " 'N(1720)0': 31214,\n",
       " 'N(2190)+': 2128,\n",
       " 'N(2190)-': -2128,\n",
       " 'N(2190)0': 1218,\n",
       " 'Omega(2250)+': -203338,\n",
       " 'Omega(2250)-': 203338,\n",
       " 'Omega(b)+': -5332,\n",
       " 'Omega(b)-': 5332,\n",
       " 'Omega(c)(2770)0': 4334,\n",
       " 'Omega(c)0': 4332,\n",
       " 'Omega+': -3334,\n",
       " 'Omega-': 3334,\n",
       " 'Sigma(1385)+': 3224,\n",
       " 'Sigma(1385)-': 3114,\n",
       " 'Sigma(1385)0': 3214,\n",
       " 'Sigma(1660)+': 13222,\n",
       " 'Sigma(1660)-': 13112,\n",
       " 'Sigma(1660)0': 13212,\n",
       " 'Sigma(1670)+': 13224,\n",
       " 'Sigma(1670)-': 13114,\n",
       " 'Sigma(1670)0': 13214,\n",
       " 'Sigma(1750)+': 23222,\n",
       " 'Sigma(1750)-': 23112,\n",
       " 'Sigma(1750)0': 23212,\n",
       " 'Sigma(1775)+': 3226,\n",
       " 'Sigma(1775)-': 3116,\n",
       " 'Sigma(1775)0': 3216,\n",
       " 'Sigma(1915)+': 13226,\n",
       " 'Sigma(1915)-': 13116,\n",
       " 'Sigma(1915)0': 13216,\n",
       " 'Sigma(1940)+': 23224,\n",
       " 'Sigma(1940)-': 23114,\n",
       " 'Sigma(1940)0': 23214,\n",
       " 'Sigma(2030)+': 3228,\n",
       " 'Sigma(2030)-': 3118,\n",
       " 'Sigma(2030)0': 3218,\n",
       " 'Sigma(b)*+': 5224,\n",
       " 'Sigma(b)*-': 5114,\n",
       " 'Sigma(b)+': 5222,\n",
       " 'Sigma(b)-': 5112,\n",
       " 'Sigma(c)(2455)+': 4212,\n",
       " 'Sigma(c)(2455)++': 4222,\n",
       " 'Sigma(c)(2455)-': -4212,\n",
       " 'Sigma(c)(2455)--': -4222,\n",
       " 'Sigma(c)(2455)0': 4112,\n",
       " 'Sigma(c)(2520)+': 4214,\n",
       " 'Sigma(c)(2520)++': 4224,\n",
       " 'Sigma(c)(2520)-': -4214,\n",
       " 'Sigma(c)(2520)--': -4224,\n",
       " 'Sigma(c)(2520)0': 4114,\n",
       " 'Sigma+': 3222,\n",
       " 'Sigma-': 3112,\n",
       " 'Sigma0': 3212,\n",
       " 'Upsilon(10860)0': 9000553,\n",
       " 'Upsilon(11020)0': 9010553,\n",
       " 'Upsilon(1D)0': 30553,\n",
       " 'Upsilon(1S)0': 553,\n",
       " 'Upsilon(2S)0': 100553,\n",
       " 'Upsilon(3S)0': 200553,\n",
       " 'Upsilon(4S)0': 300553,\n",
       " 'W+': 24,\n",
       " 'W-': -24,\n",
       " 'Xi(1530)+': -3314,\n",
       " 'Xi(1530)-': 3314,\n",
       " 'Xi(1530)0': 3324,\n",
       " 'Xi(1690)+': -203312,\n",
       " 'Xi(1690)-': 203312,\n",
       " 'Xi(1690)0': 203322,\n",
       " 'Xi(1820)+': -13314,\n",
       " 'Xi(1820)-': 13314,\n",
       " 'Xi(1820)0': 13324,\n",
       " 'Xi(1950)+': -103316,\n",
       " 'Xi(1950)-': 103316,\n",
       " 'Xi(1950)0': 103326,\n",
       " 'Xi(2030)+': -203316,\n",
       " 'Xi(2030)-': 203316,\n",
       " 'Xi(2030)0': 203326,\n",
       " 'Xi(b)+': -5132,\n",
       " 'Xi(b)-': 5132,\n",
       " 'Xi(b)0': 5232,\n",
       " \"Xi(c)'+\": 4322,\n",
       " \"Xi(c)'-\": -4322,\n",
       " \"Xi(c)'0\": 4312,\n",
       " 'Xi(c)(2645)+': 4324,\n",
       " 'Xi(c)(2645)-': -4324,\n",
       " 'Xi(c)(2645)0': 4314,\n",
       " 'Xi(c)(2790)+': 104324,\n",
       " 'Xi(c)(2790)-': -104324,\n",
       " 'Xi(c)(2790)0': 104314,\n",
       " 'Xi(c)(2815)+': 104322,\n",
       " 'Xi(c)(2815)-': -104322,\n",
       " 'Xi(c)(2815)0': 104312,\n",
       " 'Xi(c)+': 4232,\n",
       " 'Xi(c)-': -4232,\n",
       " 'Xi(c)0': 4132,\n",
       " 'Xi+': -3312,\n",
       " 'Xi-': 3312,\n",
       " 'Xi0': 3322,\n",
       " 'Z0': 23,\n",
       " 'a(0)(1450)+': 10211,\n",
       " 'a(0)(1450)-': -10211,\n",
       " 'a(0)(1450)0': 10111,\n",
       " 'a(0)(980)+': 9000211,\n",
       " 'a(0)(980)-': -9000211,\n",
       " 'a(0)(980)0': 9000111,\n",
       " 'a(1)(1260)+': 20213,\n",
       " 'a(1)(1260)-': -20213,\n",
       " 'a(1)(1260)0': 20113,\n",
       " 'a(2)(1320)+': 215,\n",
       " 'a(2)(1320)-': -215,\n",
       " 'a(2)(1320)0': 115,\n",
       " 'a(4)(2040)+': 219,\n",
       " 'a(4)(2040)-': -219,\n",
       " 'a(4)(2040)0': 119,\n",
       " 'b(1)(1235)+': 10213,\n",
       " 'b(1)(1235)-': -10213,\n",
       " 'b(1)(1235)0': 10113,\n",
       " 'bbar': -5,\n",
       " 'cbar': -4,\n",
       " 'chi(b0)(1P)0': 10551,\n",
       " 'chi(b0)(2P)0': 110551,\n",
       " 'chi(b1)(1P)0': 20553,\n",
       " 'chi(b1)(2P)0': 120553,\n",
       " 'chi(b2)(1P)0': 555,\n",
       " 'chi(b2)(2P)0': 100555,\n",
       " 'chi(c0)(1P)0': 10441,\n",
       " 'chi(c1)(1P)0': 20443,\n",
       " 'chi(c2)(1P)0': 445,\n",
       " 'chi(c2)(2P)0': 100445,\n",
       " 'dbar': -1,\n",
       " 'e+': -11,\n",
       " 'e-': 11,\n",
       " \"eta'(958)0\": 331,\n",
       " 'eta(1295)0': 100221,\n",
       " 'eta(1405)0': 9020221,\n",
       " 'eta(1475)0': 100331,\n",
       " 'eta(2)(1645)0': 10225,\n",
       " 'eta(c)(1S)0': 441,\n",
       " 'eta(c)(2S)0': 100441,\n",
       " 'eta0': 221,\n",
       " 'f(0)(1370)0': 10221,\n",
       " 'f(0)(1500)0': 9030221,\n",
       " 'f(0)(1710)0': 10331,\n",
       " 'f(0)(500)0': 9000221,\n",
       " 'f(0)(980)0': 9010221,\n",
       " 'f(1)(1285)0': 20223,\n",
       " 'f(1)(1420)0': 20333,\n",
       " \"f(2)'(1525)0\": 335,\n",
       " 'f(2)(1270)0': 225,\n",
       " 'f(2)(1950)0': 9050225,\n",
       " 'f(2)(2010)0': 9060225,\n",
       " 'f(2)(2300)0': 9080225,\n",
       " 'f(2)(2340)0': 9090225,\n",
       " 'f(4)(2050)0': 229,\n",
       " 'g0': 21,\n",
       " 'gamma0': 22,\n",
       " 'h(1)(1170)0': 10223,\n",
       " 'h(b)(1P)0': 10553,\n",
       " 'h(c)(1P)0': 10443,\n",
       " 'mu+': -13,\n",
       " 'mu-': 13,\n",
       " 'n0': 2112,\n",
       " 'nu_e': 12,\n",
       " 'nu_mu': 14,\n",
       " 'nu_tau': 16,\n",
       " 'nubar_e': -12,\n",
       " 'nubar_mu': -14,\n",
       " 'nubar_tau': -16,\n",
       " 'omega(1420)0': 100223,\n",
       " 'omega(1650)0': 30223,\n",
       " 'omega(3)(1670)0': 227,\n",
       " 'omega(782)0': 223,\n",
       " 'p+': 2212,\n",
       " 'p-': -2212,\n",
       " 'phi(1020)0': 333,\n",
       " 'phi(1680)0': 100333,\n",
       " 'phi(3)(1850)0': 337,\n",
       " 'pi(1)(1400)+': 9000213,\n",
       " 'pi(1)(1400)-': -9000213,\n",
       " 'pi(1)(1400)0': 9000113,\n",
       " 'pi(1)(1600)+': 9010213,\n",
       " 'pi(1)(1600)-': -9010213,\n",
       " 'pi(1)(1600)0': 9010113,\n",
       " 'pi(1300)+': 100211,\n",
       " 'pi(1300)-': -100211,\n",
       " 'pi(1300)0': 100111,\n",
       " 'pi(1800)+': 9010211,\n",
       " 'pi(1800)-': -9010211,\n",
       " 'pi(1800)0': 9010111,\n",
       " 'pi(2)(1670)+': 10215,\n",
       " 'pi(2)(1670)-': -10215,\n",
       " 'pi(2)(1670)0': 10115,\n",
       " 'pi+': 211,\n",
       " 'pi-': -211,\n",
       " 'pi0': 111,\n",
       " 'psi(2S)0': 100443,\n",
       " 'psi(3770)0': 30443,\n",
       " 'psi(4040)0': 9000443,\n",
       " 'psi(4160)0': 9010443,\n",
       " 'psi(4415)0': 9020443,\n",
       " 'rho(1450)+': 100213,\n",
       " 'rho(1450)-': -100213,\n",
       " 'rho(1450)0': 100113,\n",
       " 'rho(1700)+': 30213,\n",
       " 'rho(1700)-': -30213,\n",
       " 'rho(1700)0': 30113,\n",
       " 'rho(3)(1690)+': 217,\n",
       " 'rho(3)(1690)-': -217,\n",
       " 'rho(3)(1690)0': 117,\n",
       " 'rho(770)+': 213,\n",
       " 'rho(770)-': -213,\n",
       " 'rho(770)0': 113,\n",
       " 'sbar': -3,\n",
       " 'tau+': -15,\n",
       " 'tau-': 15,\n",
       " 'tbar': -6,\n",
       " 'ubar': -2}"
      ]
     },
     "execution_count": 10,
     "metadata": {},
     "output_type": "execute_result"
    }
   ],
   "source": [
    "part_dict"
   ]
  }
 ],
 "metadata": {
  "kernelspec": {
   "display_name": "particles",
   "language": "python",
   "name": "particles"
  },
  "language_info": {
   "codemirror_mode": {
    "name": "ipython",
    "version": 2
   },
   "file_extension": ".py",
   "mimetype": "text/x-python",
   "name": "python",
   "nbconvert_exporter": "python",
   "pygments_lexer": "ipython2",
   "version": "2.7.10"
  }
 },
 "nbformat": 4,
 "nbformat_minor": 2
}
