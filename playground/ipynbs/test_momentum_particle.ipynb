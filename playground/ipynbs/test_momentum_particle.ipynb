{
 "cells": [
  {
   "cell_type": "code",
   "execution_count": 1,
   "metadata": {},
   "outputs": [],
   "source": [
    "%load_ext autoreload\n",
    "%autoreload 2"
   ]
  },
  {
   "cell_type": "code",
   "execution_count": 3,
   "metadata": {},
   "outputs": [],
   "source": [
    "import sys\n",
    "from __future__ import division\n",
    "sys.path.insert(0, '../../')\n",
    "from phenomena.particle import Particle, ParticleDT"
   ]
  },
  {
   "cell_type": "code",
   "execution_count": 3,
   "metadata": {},
   "outputs": [],
   "source": [
    "import numpy as np\n",
    "class ParticleBoosted(ParticleDT):\n",
    "    c= 299792458 #m/s\n",
    "    \n",
    "    def __init__(self, name, p=0, E=0, theta=0): #initialize either with momentum (p) or energy (e)\n",
    "        super(ParticleBoosted, self).__init__(name) #inherit properties from ParticleDT\n",
    "        \n",
    "        self._set_boostvalues(p,E)\n",
    "        \n",
    "        #check E can't be less than rest mass\n",
    "        \n",
    "    @staticmethod\n",
    "    def beta_from_gamma(gamma):\n",
    "        return np.sqrt(1-np.divide(1,np.square(gamma)))\n",
    "    \n",
    "    def _m_decay(self, index):\n",
    "        return ParticleDT(pi.decay[index])._mass\n",
    "        \n",
    "    def _E_decay(self,index):  #only for index 0, 1 i.e 2 particle decays\n",
    "        if index == 0:\n",
    "            return  (self._mass**2 + self._m_decay(0)**2 - self._m_decay(1)**2)/(2*self._mass)\n",
    "        if index == 1:\n",
    "            return  (self._mass**2 - self._m_decay(0)**2 + self._m_decay(1)**2)/(2*self._mass)\n",
    "      \n",
    "    def _set_gamma_from_E(self):\n",
    "        return np.divide(self._E,self.mass)\n",
    "\n",
    "    def _set_gamma_from_p(self):\n",
    "        return np.sqrt(1+np.square(np.divide(self._p,self.mass)))\n",
    "    \n",
    "    def _set_p_from_E(self):\n",
    "        return np.multiply(self._beta,self._E)\n",
    "    \n",
    "    def _set_E_from_p(self):\n",
    "        return np.divide(self._p,self._beta) \n",
    "    \n",
    "    def _set_T(self):\n",
    "        return np.multiply(self._gamma-1,self.mass)\n",
    "    \n",
    "    def _set_boostvalues(self,p,E):\n",
    "        if p and E:\n",
    "            print (\"You can't define both E & p\")\n",
    "        elif p and not E:\n",
    "            self._p = p   # Momentum of the particle, GeV/c, because mass comes in GeV/c^2\n",
    "            self._gamma= self._set_gamma_from_p()\n",
    "            self._beta = ParticleBoosted.beta_from_gamma(self._gamma)\n",
    "            self._E = self._set_E_from_p()\n",
    "            self._T = self._set_T()\n",
    "        elif E and not p:\n",
    "            self._E = E   # Energy of the particle, GeV, because mass comes in GeV/c^2\n",
    "            self._gamma= self._set_gamma_from_E()\n",
    "            self._beta = ParticleBoosted.beta_from_gamma(self._gamma)\n",
    "            self._p = self._set_p_from_E()\n",
    "            self._T = self._set_T()\n",
    "        elif E==0 and p==0:\n",
    "            self._E = 0\n",
    "            self._p = 0\n",
    "            self._gamma=1\n",
    "            self._beta=0\n",
    "            self._T = self._set_T()           \n",
    "            \n",
    "    @property\n",
    "    def p(self):\n",
    "        return self._p\n",
    "    \n",
    "    @p.setter\n",
    "    def p(self, value):\n",
    "        self._set_boostvalues(p=value, E=0) \n",
    "        \n",
    "    @property\n",
    "    def E(self):\n",
    "        return self._E\n",
    "    \n",
    "    @E.setter\n",
    "    def E(self, value):\n",
    "        self._set_boostvalues(P=0,E=value) \n",
    "        \n",
    "    @property\n",
    "    def gamma(self):\n",
    "        return self._gamma\n",
    "    \n",
    "    @property\n",
    "    def beta(self):\n",
    "        return self._beta\n",
    "    \n",
    "    @property\n",
    "    def T(self):\n",
    "        return self._T\n",
    "    \n",
    "    @ParticleDT.lifetime.getter\n",
    "    def lifetime(self):\n",
    "        return np.multiply(self._gamma,self._lifetime)\n"
   ]
  },
  {
   "cell_type": "code",
   "execution_count": 7,
   "metadata": {},
   "outputs": [],
   "source": [
    "pi = ParticleBoosted('pi+', 2)"
   ]
  },
  {
   "cell_type": "code",
   "execution_count": 5,
   "metadata": {},
   "outputs": [
    {
     "data": {
      "text/plain": [
       "0.13957018"
      ]
     },
     "execution_count": 5,
     "metadata": {},
     "output_type": "execute_result"
    }
   ],
   "source": [
    "pi.mass"
   ]
  },
  {
   "cell_type": "code",
   "execution_count": 8,
   "metadata": {},
   "outputs": [
    {
     "data": {
      "text/plain": [
       "14.364558704840572"
      ]
     },
     "execution_count": 8,
     "metadata": {},
     "output_type": "execute_result"
    }
   ],
   "source": [
    "pi.gamma"
   ]
  },
  {
   "cell_type": "code",
   "execution_count": 9,
   "metadata": {},
   "outputs": [
    {
     "data": {
      "text/plain": [
       "0.9975738783537027"
      ]
     },
     "execution_count": 9,
     "metadata": {},
     "output_type": "execute_result"
    }
   ],
   "source": [
    "pi.beta"
   ]
  },
  {
   "cell_type": "code",
   "execution_count": 10,
   "metadata": {},
   "outputs": [
    {
     "data": {
      "text/plain": [
       "373948.83097700536"
      ]
     },
     "execution_count": 10,
     "metadata": {},
     "output_type": "execute_result"
    }
   ],
   "source": [
    "pi.lifetime"
   ]
  },
  {
   "cell_type": "code",
   "execution_count": 11,
   "metadata": {},
   "outputs": [
    {
     "data": {
      "text/plain": [
       "2"
      ]
     },
     "execution_count": 11,
     "metadata": {},
     "output_type": "execute_result"
    }
   ],
   "source": [
    "pi.p"
   ]
  },
  {
   "cell_type": "code",
   "execution_count": 12,
   "metadata": {},
   "outputs": [
    {
     "data": {
      "text/plain": [
       "1.8652938640551653"
      ]
     },
     "execution_count": 12,
     "metadata": {},
     "output_type": "execute_result"
    }
   ],
   "source": [
    "pi.T"
   ]
  },
  {
   "cell_type": "code",
   "execution_count": 13,
   "metadata": {},
   "outputs": [
    {
     "data": {
      "text/plain": [
       "[(0.999877, [-13, 14]), (0.000123, [-11, 12])]"
      ]
     },
     "execution_count": 13,
     "metadata": {},
     "output_type": "execute_result"
    }
   ],
   "source": [
    "pi.decay_channels"
   ]
  },
  {
   "cell_type": "code",
   "execution_count": 14,
   "metadata": {},
   "outputs": [
    {
     "data": {
      "text/plain": [
       "[(0.999877, ['mu+', 'nu_mu']), (0.000123, ['e+', 'nu_e'])]"
      ]
     },
     "execution_count": 14,
     "metadata": {},
     "output_type": "execute_result"
    }
   ],
   "source": [
    "pi.get_channel_names()"
   ]
  },
  {
   "cell_type": "code",
   "execution_count": 19,
   "metadata": {},
   "outputs": [
    {
     "data": {
      "text/plain": [
       "0.1056583745"
      ]
     },
     "execution_count": 19,
     "metadata": {},
     "output_type": "execute_result"
    }
   ],
   "source": [
    "ParticleDT(pi.decay[0])._mass"
   ]
  },
  {
   "cell_type": "code",
   "execution_count": 20,
   "metadata": {},
   "outputs": [
    {
     "data": {
      "text/plain": [
       "0.0"
      ]
     },
     "execution_count": 20,
     "metadata": {},
     "output_type": "execute_result"
    }
   ],
   "source": [
    "ParticleDT(pi.decay[1])._mass"
   ]
  },
  {
   "cell_type": "code",
   "execution_count": 21,
   "metadata": {},
   "outputs": [
    {
     "data": {
      "text/plain": [
       "[u\"['u', 'dbar']\"]"
      ]
     },
     "execution_count": 21,
     "metadata": {},
     "output_type": "execute_result"
    }
   ],
   "source": [
    "pi.composition"
   ]
  },
  {
   "cell_type": "code",
   "execution_count": 4,
   "metadata": {},
   "outputs": [],
   "source": [
    "k = ParticleDT(\"K+\")"
   ]
  },
  {
   "cell_type": "code",
   "execution_count": 5,
   "metadata": {},
   "outputs": [
    {
     "data": {
      "text/plain": [
       "[u\"['u', 'sbar']\"]"
      ]
     },
     "execution_count": 5,
     "metadata": {},
     "output_type": "execute_result"
    }
   ],
   "source": [
    "k.composition"
   ]
  },
  {
   "cell_type": "code",
   "execution_count": null,
   "metadata": {},
   "outputs": [],
   "source": []
  }
 ],
 "metadata": {
  "kernelspec": {
   "display_name": "Python 2",
   "language": "python",
   "name": "python2"
  },
  "language_info": {
   "codemirror_mode": {
    "name": "ipython",
    "version": 2
   },
   "file_extension": ".py",
   "mimetype": "text/x-python",
   "name": "python",
   "nbconvert_exporter": "python",
   "pygments_lexer": "ipython2",
   "version": "2.7.14"
  }
 },
 "nbformat": 4,
 "nbformat_minor": 2
}
