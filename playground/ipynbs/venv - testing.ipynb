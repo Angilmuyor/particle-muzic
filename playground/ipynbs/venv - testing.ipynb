{
 "cells": [
  {
   "cell_type": "code",
   "execution_count": 6,
   "metadata": {},
   "outputs": [],
   "source": [
    "from phenomena.connection.phenomena_client import MessageSender\n",
    "from phenomena.connection.phenomena_message import IncomingMessage, OutcomingMessage\n",
    "\n",
    "HOST = '127.0.0.1'\n",
    "\n",
    "class Phenomena:\n",
    "\n",
    "    _command_id = 0\n",
    "\n",
    "    @staticmethod\n",
    "    def getCommandId():\n",
    "        Phenomena._command_id += 1\n",
    "        return Phenomena._command_id\n",
    "\n",
    "    def addParticle(self, particle):\n",
    "        message = IncomingMessage.fromData(command_id=Phenomena.getCommandId(), command_name=\"ADD\", module_path=\"node\", params={'particle_name': particle})\n",
    "        received_message = self._sendMessage(message)\n",
    "        return received_message\n",
    "\n",
    "    def _sendMessage(self, message):\n",
    "        message_sender = MessageSender(HOST)\n",
    "        return message_sender.sendMessage(message)"
   ]
  },
  {
   "cell_type": "code",
   "execution_count": 13,
   "metadata": {},
   "outputs": [
    {
     "name": "stdout",
     "output_type": "stream",
     "text": [
      "OK ! Outcoming message: type: 1 id 8 Name: ADD Module Path: node\n",
      "Total time: 0.0318291187286\n"
     ]
    }
   ],
   "source": [
    "import time\n",
    "phenomena = Phenomena()\n",
    "begin_time = time.time()\n",
    "#for i in range(2):\n",
    "print phenomena.addParticle(\"K-\")\n",
    "print \"Total time: {0}\".format(time.time() - begin_time)"
   ]
  },
  {
   "cell_type": "code",
   "execution_count": null,
   "metadata": {},
   "outputs": [],
   "source": []
  }
 ],
 "metadata": {
  "kernelspec": {
   "display_name": "phenomena2",
   "language": "python",
   "name": "phenomena2"
  },
  "language_info": {
   "codemirror_mode": {
    "name": "ipython",
    "version": 2
   },
   "file_extension": ".py",
   "mimetype": "text/x-python",
   "name": "python",
   "nbconvert_exporter": "python",
   "pygments_lexer": "ipython2",
   "version": "2.7.10"
  }
 },
 "nbformat": 4,
 "nbformat_minor": 2
}
