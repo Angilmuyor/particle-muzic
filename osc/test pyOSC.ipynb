{
 "cells": [
  {
   "cell_type": "code",
   "execution_count": 2,
   "metadata": {
    "collapsed": true,
    "run_control": {
     "frozen": false,
     "read_only": false
    }
   },
   "outputs": [],
   "source": [
    "from OSC import OSCServer,OSCClient, OSCMessage"
   ]
  },
  {
   "cell_type": "code",
   "execution_count": 8,
   "metadata": {
    "collapsed": false,
    "run_control": {
     "frozen": false,
     "read_only": false
    }
   },
   "outputs": [],
   "source": [
    "receive_address = \"172.16.4.21\", 7000 #Mac Adress, Outgoing Port  IFAE 172.16.17.70   // 172.16.4.21\n",
    "send_address = \"172.16.4.31\", 9000 #iPhone Adress, Incoming Port  IFAE\n",
    "server = OSCServer(receive_address)\n",
    "server.handle_request()"
   ]
  },
  {
   "cell_type": "code",
   "execution_count": 9,
   "metadata": {
    "collapsed": false,
    "run_control": {
     "frozen": false,
     "read_only": false
    }
   },
   "outputs": [],
   "source": [
    "server.close()"
   ]
  },
  {
   "cell_type": "code",
   "execution_count": null,
   "metadata": {
    "collapsed": false,
    "run_control": {
     "frozen": false,
     "read_only": false
    }
   },
   "outputs": [],
   "source": []
  },
  {
   "cell_type": "code",
   "execution_count": 24,
   "metadata": {
    "collapsed": false,
    "run_control": {
     "frozen": false,
     "read_only": false
    }
   },
   "outputs": [
    {
     "ename": "NameError",
     "evalue": "name 'push1_callback' is not defined",
     "output_type": "error",
     "traceback": [
      "\u001b[0;31m---------------------------------------------------------------------------\u001b[0m",
      "\u001b[0;31mNameError\u001b[0m                                 Traceback (most recent call last)",
      "\u001b[0;32m<ipython-input-24-6261aaba481c>\u001b[0m in \u001b[0;36m<module>\u001b[0;34m()\u001b[0m\n\u001b[0;32m----> 1\u001b[0;31m \u001b[0mserver\u001b[0m\u001b[0;34m.\u001b[0m\u001b[0maddMsgHandler\u001b[0m\u001b[0;34m(\u001b[0m \u001b[0;34m\"/7/push1\"\u001b[0m\u001b[0;34m,\u001b[0m\u001b[0mpush1_callback\u001b[0m\u001b[0;34m)\u001b[0m\u001b[0;34m\u001b[0m\u001b[0m\n\u001b[0m\u001b[1;32m      2\u001b[0m \u001b[0mserver\u001b[0m\u001b[0;34m.\u001b[0m\u001b[0maddMsgHandler\u001b[0m\u001b[0;34m(\u001b[0m \u001b[0;34m\"/7/push2\"\u001b[0m\u001b[0;34m,\u001b[0m\u001b[0mpush2_callback\u001b[0m\u001b[0;34m)\u001b[0m\u001b[0;34m\u001b[0m\u001b[0m\n\u001b[1;32m      3\u001b[0m \u001b[0mserver\u001b[0m\u001b[0;34m.\u001b[0m\u001b[0maddMsgHandler\u001b[0m\u001b[0;34m(\u001b[0m \u001b[0;34m\"/7/push3\"\u001b[0m\u001b[0;34m,\u001b[0m\u001b[0mpush3_callback\u001b[0m\u001b[0;34m)\u001b[0m\u001b[0;34m\u001b[0m\u001b[0m\n\u001b[1;32m      4\u001b[0m \u001b[0mserver\u001b[0m\u001b[0;34m.\u001b[0m\u001b[0maddMsgHandler\u001b[0m\u001b[0;34m(\u001b[0m \u001b[0;34m\"/7/push4\"\u001b[0m\u001b[0;34m,\u001b[0m\u001b[0mpush4_callback\u001b[0m\u001b[0;34m)\u001b[0m\u001b[0;34m\u001b[0m\u001b[0m\n",
      "\u001b[0;31mNameError\u001b[0m: name 'push1_callback' is not defined"
     ]
    }
   ],
   "source": []
  },
  {
   "cell_type": "code",
   "execution_count": null,
   "metadata": {
    "collapsed": true,
    "run_control": {
     "frozen": false,
     "read_only": false
    }
   },
   "outputs": [],
   "source": [
    "def test_handler(addr, tags, stuff, source):\n",
    "    print \"---\"\n",
    "    print \"received new osc msg from %s\" % OSC.getUrlStr(source)\n",
    "    print \"with addr : %s\" % addr\n",
    "    print \"typetags %s\" % tags\n",
    "    print \"data %s\" % stuff\n",
    "    msg = OSC.OSCMessage()\n",
    "    msg.setAddress(addr)\n",
    "    msg.append(stuff)\n",
    "    c.send(msg)\n",
    "    print \"return message %s\" % msg\n",
    "    print \"---\"\n",
    "\n",
    "server.addMsgHandler('/1/faderA', test_handler)"
   ]
  }
 ],
 "metadata": {
  "kernelspec": {
   "display_name": "Python 2",
   "language": "python",
   "name": "python2"
  },
  "language_info": {
   "codemirror_mode": {
    "name": "ipython",
    "version": 2
   },
   "file_extension": ".py",
   "mimetype": "text/x-python",
   "name": "python",
   "nbconvert_exporter": "python",
   "pygments_lexer": "ipython2",
   "version": "2.7.14"
  }
 },
 "nbformat": 4,
 "nbformat_minor": 0
}
