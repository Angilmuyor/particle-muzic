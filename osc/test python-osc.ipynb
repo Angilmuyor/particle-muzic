{
 "cells": [
  {
   "cell_type": "code",
   "execution_count": 1,
   "metadata": {
    "collapsed": true,
    "run_control": {
     "frozen": false,
     "read_only": false
    }
   },
   "outputs": [],
   "source": [
    "#https://github.com/attwad/python-osc"
   ]
  },
  {
   "cell_type": "markdown",
   "metadata": {},
   "source": [
    "### Small example OSC client\n",
    "\n",
    "This program sends 10 random values between 0.0 and 1.0 to the /filter address, waiting for 1 seconds between each value."
   ]
  },
  {
   "cell_type": "code",
   "execution_count": 6,
   "metadata": {
    "collapsed": false
   },
   "outputs": [
    {
     "name": "stderr",
     "output_type": "stream",
     "text": [
      "usage: __main__.py [-h] [--ip IP] [--port PORT]\n",
      "__main__.py: error: unrecognized arguments: -f /Users/sgrinchspun/Library/Jupyter/runtime/kernel-d57b8aef-ac19-47d9-8a88-06b3adba812e.json\n"
     ]
    },
    {
     "ename": "SystemExit",
     "evalue": "2",
     "output_type": "error",
     "traceback": [
      "An exception has occurred, use %tb to see the full traceback.\n",
      "\u001b[0;31mSystemExit\u001b[0m\u001b[0;31m:\u001b[0m 2\n"
     ]
    },
    {
     "name": "stderr",
     "output_type": "stream",
     "text": [
      "To exit: use 'exit', 'quit', or Ctrl-D.\n"
     ]
    }
   ],
   "source": [
    "import argparse\n",
    "import random\n",
    "import time\n",
    "\n",
    "from pythonosc import osc_message_builder\n",
    "from pythonosc import udp_client\n",
    "\n",
    "\n",
    "\n",
    "parser = argparse.ArgumentParser()\n",
    "\n",
    "parser.add_argument(\"--ip\", default=\"127.0.0.1\",\n",
    "  help=\"The ip of the OSC server\")\n",
    "\n",
    "parser.add_argument(\"--port\", type=int, default=5005,\n",
    "  help=\"The port the OSC server is listening on\")\n",
    "\n",
    "args = parser.parse_args()\n",
    "\n",
    "client = udp_client.SimpleUDPClient(args.ip, args.port)\n",
    "\n",
    "for x in range(10):\n",
    "    client.send_message(\"/filter\", random.random())\n",
    "    time.sleep(1)"
   ]
  },
  {
   "cell_type": "markdown",
   "metadata": {},
   "source": [
    "### Small example OSC server\n",
    "\n",
    "This program listens to several addresses, and prints some information about received packets."
   ]
  },
  {
   "cell_type": "code",
   "execution_count": 4,
   "metadata": {
    "collapsed": false
   },
   "outputs": [
    {
     "ename": "SyntaxError",
     "evalue": "invalid syntax (dispatcher.py, line 53)",
     "output_type": "error",
     "traceback": [
      "\u001b[0;36m  File \u001b[0;32m\"/Users/sgrinchspun/Library/Python/2.7/lib/python/site-packages/python_osc-1.6.6-py2.7.egg/pythonosc/dispatcher.py\"\u001b[0;36m, line \u001b[0;32m53\u001b[0m\n\u001b[0;31m    yield from handlers\u001b[0m\n\u001b[0m             ^\u001b[0m\n\u001b[0;31mSyntaxError\u001b[0m\u001b[0;31m:\u001b[0m invalid syntax\n"
     ]
    }
   ],
   "source": [
    "import argparse\n",
    "import math\n",
    "\n",
    "from pythonosc import dispatcher\n",
    "from pythonosc import osc_server\n",
    "\n",
    "def print_volume_handler(unused_addr, args, volume):\n",
    "  print(\"[{0}] ~ {1}\".format(args[0], volume))\n",
    "\n",
    "def print_compute_handler(unused_addr, args, volume):\n",
    "  try:\n",
    "    print(\"[{0}] ~ {1}\".format(args[0], args[1](volume)))\n",
    "  except ValueError: pass\n",
    "\n",
    "parser = argparse.ArgumentParser()\n",
    "parser.add_argument(\"--ip\",\n",
    "  default=\"127.0.0.1\", help=\"The ip to listen on\")\n",
    "parser.add_argument(\"--port\",\n",
    "  type=int, default=5005, help=\"The port to listen on\")\n",
    "args = parser.parse_args()\n",
    "\n",
    "dispatcher = dispatcher.Dispatcher()\n",
    "dispatcher.map(\"/filter\", print_volume_handler, \"Volume\")\n",
    "dispatcher.map(\"/logvolume\", print_compute_handler, \"Log volume\", math.log)\n",
    "\n",
    "server = osc_server.ThreadingOSCUDPServer(\n",
    "  (args.ip, args.port), dispatcher)\n",
    "print(\"Serving on {}\".format(server.server_address))\n",
    "server.serve_forever()"
   ]
  },
  {
   "cell_type": "code",
   "execution_count": null,
   "metadata": {
    "collapsed": true
   },
   "outputs": [],
   "source": []
  }
 ],
 "metadata": {
  "kernelspec": {
   "display_name": "Python 2",
   "language": "python",
   "name": "python2"
  },
  "language_info": {
   "codemirror_mode": {
    "name": "ipython",
    "version": 2
   },
   "file_extension": ".py",
   "mimetype": "text/x-python",
   "name": "python",
   "nbconvert_exporter": "python",
   "pygments_lexer": "ipython2",
   "version": "2.7.14"
  }
 },
 "nbformat": 4,
 "nbformat_minor": 0
}
