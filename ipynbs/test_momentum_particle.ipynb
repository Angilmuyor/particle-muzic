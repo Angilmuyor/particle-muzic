{
 "cells": [
  {
   "cell_type": "code",
   "execution_count": 3,
   "metadata": {},
   "outputs": [],
   "source": [
    "%load_ext autoreload\n",
    "%autoreload 2"
   ]
  },
  {
   "cell_type": "code",
   "execution_count": 4,
   "metadata": {},
   "outputs": [],
   "source": [
    "import sys\n",
    "from __future__ import division\n",
    "sys.path.insert(0, '../')\n",
    "from phenomena.particle import Particle, ParticleDT"
   ]
  },
  {
   "cell_type": "code",
   "execution_count": 22,
   "metadata": {},
   "outputs": [],
   "source": [
    "import numpy as np\n",
    "class ParticleBoosted(ParticleDT):\n",
    "    c= 299792458 #m/s\n",
    "    \n",
    "    def __init__(self, name, p=0, E=0, theta=0): #initialize either with momentum (p) or energy (e)\n",
    "        super(ParticleBoosted, self).__init__(name) #inherit properties from ParticleDT\n",
    "        \n",
    "        self._set_boostvalues(p,E)\n",
    "        \n",
    "        #check E can't be less than rest mass\n",
    "        \n",
    "    @staticmethod\n",
    "    def beta_from_gamma(gamma):\n",
    "        return np.sqrt(1-np.divide(1,np.square(gamma)))        \n",
    "      \n",
    "    def _set_gamma_from_E(self):\n",
    "        return np.divide(self._E,self.mass)\n",
    "\n",
    "    def _set_gamma_from_p(self):\n",
    "        return np.sqrt(1+np.square(np.divide(self._p,self.mass)))\n",
    "    \n",
    "    def _set_p_from_E(self):\n",
    "        return np.multiply(self._beta,self._E)\n",
    "    \n",
    "    def _set_E_from_p(self):\n",
    "        return np.divide(self._p,self._beta) \n",
    "    \n",
    "    def _set_T(self):\n",
    "        return np.multiply(self._gamma-1,self.mass)\n",
    "    \n",
    "    def _set_boostvalues(self,p,E):\n",
    "        if p and E:\n",
    "            print (\"You can't define both E & p\")\n",
    "        elif p and not E:\n",
    "            self._p = p   # Momentum of the particle, GeV/c, because mass comes in GeV/c^2\n",
    "            self._gamma= self._set_gamma_from_p()\n",
    "            self._beta = ParticleBoosted.beta_from_gamma(self._gamma)\n",
    "            self._E = self._set_E_from_p()\n",
    "            self._T = self._set_T()\n",
    "        elif E and not p:\n",
    "            self._E = E   # Energy of the particle, GeV, because mass comes in GeV/c^2\n",
    "            self._gamma= self._set_gamma_from_E()\n",
    "            self._beta = ParticleBoosted.beta_from_gamma(self._gamma)\n",
    "            self._p = self._set_p_from_E()\n",
    "            self._T = self._set_T()\n",
    "        elif E==0 and p==0:\n",
    "            self._E = 0\n",
    "            self._p = 0\n",
    "            self._gamma=1\n",
    "            self._beta=0\n",
    "            self._T = self._set_T()           \n",
    "            \n",
    "        \n",
    "    @property\n",
    "    def p(self):\n",
    "        return self._p\n",
    "    \n",
    "    @p.setter\n",
    "    def p(self, value):\n",
    "        self._set_boostvalues(p=value, E=0) \n",
    "        \n",
    "    @property\n",
    "    def E(self):\n",
    "        return self._E\n",
    "    \n",
    "    @E.setter\n",
    "    def E(self, value):\n",
    "        self._set_boostvalues(P=0,E=value) \n",
    "        \n",
    "    @property\n",
    "    def gamma(self):\n",
    "        return self._gamma\n",
    "    \n",
    "    @property\n",
    "    def beta(self):\n",
    "        return self._beta\n",
    "    \n",
    "    @property\n",
    "    def T(self):\n",
    "        return self._T\n",
    "    \n",
    "    @ParticleDT.lifetime.getter\n",
    "    def lifetime(self):\n",
    "        return np.multiply(self._gamma,self._lifetime)\n"
   ]
  },
  {
   "cell_type": "code",
   "execution_count": 23,
   "metadata": {},
   "outputs": [],
   "source": [
    "pi = ParticleBoosted('pi+')"
   ]
  },
  {
   "cell_type": "code",
   "execution_count": 12,
   "metadata": {},
   "outputs": [
    {
     "data": {
      "text/plain": [
       "0.13957018"
      ]
     },
     "execution_count": 12,
     "metadata": {},
     "output_type": "execute_result"
    }
   ],
   "source": [
    "pi.mass"
   ]
  },
  {
   "cell_type": "code",
   "execution_count": 13,
   "metadata": {},
   "outputs": [
    {
     "data": {
      "text/plain": [
       "1"
      ]
     },
     "execution_count": 13,
     "metadata": {},
     "output_type": "execute_result"
    }
   ],
   "source": [
    "pi.gamma"
   ]
  },
  {
   "cell_type": "code",
   "execution_count": 14,
   "metadata": {},
   "outputs": [
    {
     "data": {
      "text/plain": [
       "0"
      ]
     },
     "execution_count": 14,
     "metadata": {},
     "output_type": "execute_result"
    }
   ],
   "source": [
    "pi.beta"
   ]
  },
  {
   "cell_type": "code",
   "execution_count": 15,
   "metadata": {},
   "outputs": [
    {
     "data": {
      "text/plain": [
       "26032.74062648315"
      ]
     },
     "execution_count": 15,
     "metadata": {},
     "output_type": "execute_result"
    }
   ],
   "source": [
    "pi.lifetime"
   ]
  },
  {
   "cell_type": "code",
   "execution_count": 50,
   "metadata": {},
   "outputs": [
    {
     "data": {
      "text/plain": [
       "2"
      ]
     },
     "execution_count": 50,
     "metadata": {},
     "output_type": "execute_result"
    }
   ],
   "source": [
    "pi.p"
   ]
  },
  {
   "cell_type": "code",
   "execution_count": 51,
   "metadata": {},
   "outputs": [
    {
     "data": {
      "text/plain": [
       "1.8652938640551653"
      ]
     },
     "execution_count": 51,
     "metadata": {},
     "output_type": "execute_result"
    }
   ],
   "source": [
    "pi.T"
   ]
  },
  {
   "cell_type": "code",
   "execution_count": 16,
   "metadata": {},
   "outputs": [],
   "source": [
    "pi1 = ParticleBoosted('pi+')\n",
    "pi2 = ParticleDT('pi+')"
   ]
  },
  {
   "cell_type": "code",
   "execution_count": 17,
   "metadata": {},
   "outputs": [
    {
     "data": {
      "text/plain": [
       "26032.74062648315"
      ]
     },
     "execution_count": 17,
     "metadata": {},
     "output_type": "execute_result"
    }
   ],
   "source": [
    "pi1.lifetime"
   ]
  },
  {
   "cell_type": "code",
   "execution_count": 18,
   "metadata": {},
   "outputs": [
    {
     "data": {
      "text/plain": [
       "26032.74062648315"
      ]
     },
     "execution_count": 18,
     "metadata": {},
     "output_type": "execute_result"
    }
   ],
   "source": [
    "pi2.lifetime"
   ]
  },
  {
   "cell_type": "code",
   "execution_count": 56,
   "metadata": {},
   "outputs": [],
   "source": [
    "Z=ParticleBoosted('Z0',p=100)"
   ]
  },
  {
   "cell_type": "code",
   "execution_count": 57,
   "metadata": {},
   "outputs": [
    {
     "data": {
      "text/plain": [
       "135.33358191432015"
      ]
     },
     "execution_count": 57,
     "metadata": {},
     "output_type": "execute_result"
    }
   ],
   "source": [
    "Z.E"
   ]
  },
  {
   "cell_type": "code",
   "execution_count": 58,
   "metadata": {},
   "outputs": [
    {
     "data": {
      "text/plain": [
       "3.9149849992006165e-13"
      ]
     },
     "execution_count": 58,
     "metadata": {},
     "output_type": "execute_result"
    }
   ],
   "source": [
    "Z.lifetime"
   ]
  },
  {
   "cell_type": "code",
   "execution_count": 59,
   "metadata": {},
   "outputs": [],
   "source": [
    "Z.p=50000"
   ]
  },
  {
   "cell_type": "code",
   "execution_count": 53,
   "metadata": {},
   "outputs": [
    {
     "data": {
      "text/plain": [
       "1.4464227779153602e-10"
      ]
     },
     "execution_count": 53,
     "metadata": {},
     "output_type": "execute_result"
    }
   ],
   "source": [
    "Z.lifetime"
   ]
  },
  {
   "cell_type": "code",
   "execution_count": null,
   "metadata": {},
   "outputs": [],
   "source": []
  }
 ],
 "metadata": {
  "kernelspec": {
   "display_name": "Python 2",
   "language": "python",
   "name": "python2"
  },
  "language_info": {
   "codemirror_mode": {
    "name": "ipython",
    "version": 2
   },
   "file_extension": ".py",
   "mimetype": "text/x-python",
   "name": "python",
   "nbconvert_exporter": "python",
   "pygments_lexer": "ipython2",
   "version": "2.7.14"
  }
 },
 "nbformat": 4,
 "nbformat_minor": 2
}
