{
 "cells": [
  {
   "cell_type": "code",
   "execution_count": 6,
   "metadata": {},
   "outputs": [],
   "source": [
    "import random\n",
    "import math\n",
    "import json\n",
    "import textwrap\n",
    "from operator import itemgetter\n",
    "import numpy as np\n",
    "\n",
    "import sys\n",
    "sys.path.insert(0, '../')\n",
    "\n",
    "#ParticleDataTool gives us the decay channels\n",
    "from ParticleDataTool import ParticleDataTool as pdt\n",
    "pythia = pdt.PYTHIAParticleData(file_path='ParticleData.ppl', use_cache=True)\n",
    "#Sibyll = pdt.SibyllParticleTable()\n",
    "#DpmJet = pdt.DpmJetParticleTable()\n",
    "#QGSJet = pdt.QGSJetParticleTable()\n",
    "#UrQMD = pdt.UrQMDParticleTable()\n",
    "\n",
    "#PYPDT gives us info about mass, charge, lifetime \n",
    "import pypdt\n",
    "tbl = pypdt.ParticleDataTable()\n",
    "\n",
    "#particle_extra_info gives us information about composition, interactions, type,...\n",
    "import os\n",
    "filename = '../particle_extra_info/part_extra_info.json'\n",
    "particle_extra_info = json.load(open(filename))\n",
    "\n",
    "#Part_dict is a dictornary to access pdgid from name\n",
    "part_dict = {}\n",
    "for p in tbl:\n",
    "    part_dict[p.name]= p.id\n",
    "\n",
    "    \n",
    "#apdgid accesses part_dict processing particles that are their own antiparticle\n",
    "def apdgid(partid):\n",
    "    partid = str(partid)\n",
    "    if pypdt.get(partid) != None:\n",
    "        return pypdt.get(partid)\n",
    "    else:\n",
    "        if partid[0] == '-':\n",
    "            return pypdt.get(partid[1:])\n",
    "        else:\n",
    "            return ValueError(\"Id not found\")\n",
    "\n",
    "        \n",
    "def renormalize(n):\n",
    "    range1=[-13,14]\n",
    "    range2=[1e-3,5]\n",
    "    delta1 = range1[1] - range1[0]\n",
    "    delta2 = range2[1] - range2[0]\n",
    "    return np.around((delta2 * (n - range1[0]) / delta1) + range2[0],2)\n",
    "\n",
    "def magnitude(x):\n",
    "    return int(math.log10(x))"
   ]
  },
  {
   "cell_type": "code",
   "execution_count": 7,
   "metadata": {},
   "outputs": [],
   "source": [
    "class particle(object):\n",
    "    def __new__(cls, *args, **kw):\n",
    "        if args[0] in ['u','d','c','s','t','b']:\n",
    "            return super(particle, cls).__new__(cls)\n",
    "        else:    \n",
    "            try:\n",
    "                part_dict[args[0]]\n",
    "                return super(particle, cls).__new__(cls)\n",
    "            except:\n",
    "                print \"Unknown particle:\", args[0]\n",
    "    \n",
    "    def __init__(self, name):\n",
    "        self.name = name\n",
    "        #attributes from PYPDT\n",
    "        if name in ['u','d','c','s','t','b']:  #deal with quarks not defined\n",
    "            self.pdgid = part_dict[name+'bar']\n",
    "        else:\n",
    "            self.pdgid = part_dict[name]  \n",
    "        self.mass = pypdt.get(self.pdgid).mass  #tbl[self.pdgid].mass  #GeV\n",
    "        self.charge = pypdt.get(self.pdgid).charge\n",
    "        self.lifetime = pypdt.get(self.pdgid).lifetime  #ps e-12 s\n",
    "        self.ctau = pypdt.get(self.pdgid).ctau  #mm\n",
    "        self.width = pypdt.get(self.pdgid).width #GeV\n",
    "        #attributes from ParticleDataTool\n",
    "        try:\n",
    "            self.decay_channels = sorted(pythia.decay_channels(self.pdgid),key=itemgetter(0), reverse=True)\n",
    "        except:\n",
    "            self.decay_channels = []\n",
    "        #attributes from particle_extra_info\n",
    "        self.composition = particle_extra_info[str(self.pdgid)]['composition']\n",
    "        self.interactions = particle_extra_info[str(self.pdgid)]['interactions']\n",
    "        self.latex = particle_extra_info[str(self.pdgid)]['latex']\n",
    "        self.type = particle_extra_info[str(self.pdgid)]['type']\n",
    "        self.family = particle_extra_info[str(self.pdgid)]['family']\n",
    "        self.symbol = particle_extra_info[str(self.pdgid)]['symbol']\n",
    "        self.antiparticle = particle_extra_info[str(self.pdgid)]['antiparticle']\n",
    "        self.spin = particle_extra_info[str(self.pdgid)]['Spin']\n",
    "        self.parity = particle_extra_info[str(self.pdgid)]['Parity']\n",
    "        self.isospin = particle_extra_info[str(self.pdgid)]['Isospin']\n",
    "        self.j = particle_extra_info[str(self.pdgid)]['J^P']\n",
    "        self.strangeness = particle_extra_info[str(self.pdgid)]['Strangeness']\n",
    "        self.charm = particle_extra_info[str(self.pdgid)]['Charm']\n",
    "        self.bottomness = particle_extra_info[str(self.pdgid)]['Bottomness']\n",
    "        \n",
    "        #calculated attributes\n",
    "        self.channel_names = self.channel_names()\n",
    "        self.decay_seq = self.build_weights()[0]\n",
    "        self.decay_weights = self.build_weights()[1]\n",
    "    \n",
    "    def channel_names(self):\n",
    "        dc_names = []\n",
    "        if self.decay_channels != []:\n",
    "            for item in self.decay_channels:\n",
    "                if item[0] != 0.0:            # do not use channels with prob = 0.0\n",
    "                    part_names =[]\n",
    "                    for part in item[1]:\n",
    "                        part_names.append(apdgid(part).name)     # use apdgid to process particles that are their own antiparticle \n",
    "                    dc_names.append(tuple([item[0], part_names]))\n",
    "            return sorted(dc_names,key=itemgetter(0), reverse=True)\n",
    "        else:\n",
    "            return dc_names\n",
    "        \n",
    "    def weighted_choice(self, seq, weights):\n",
    "        assert len(weights) == len(seq)\n",
    "        assert abs(1. - sum(weights)) < 1e-6\n",
    "        x = random.random()\n",
    "        for i, elmt in enumerate(seq):\n",
    "            if x <= weights[i]:\n",
    "                return elmt\n",
    "            x -= weights[i]\n",
    "    \n",
    "    def build_weights(self):\n",
    "        seq = []\n",
    "        weights=[]\n",
    "        for index, item in enumerate(self.decay_channels):\n",
    "            if item[0] != 0.0:           # do not use channels with prob = 0.0\n",
    "                seq.append(index)\n",
    "                weights.append(item[0])\n",
    "        return seq, weights\n",
    "    \n",
    "    def decay_tree_all(self, leaf = 1):\n",
    "        wrapper1 = textwrap.TextWrapper(initial_indent='-'*leaf, width=70)\n",
    "        wrapper2 = textwrap.TextWrapper(initial_indent='-'*(leaf+1), width=70)\n",
    "        if self.channel_names !=[]:\n",
    "            for index, channel in enumerate(self.channel_names):\n",
    "                print wrapper1.fill('Channel {} : {}'.format(index, channel[0]))\n",
    "                for part in channel[1]:\n",
    "                    print wrapper2.fill(part)\n",
    "                    particle(part).decay_tree_all(leaf+1)\n",
    "        else: \n",
    "            print wrapper2.fill('Stable')\n",
    "            \n",
    "    def decay_tree_random(self, leaf=1):\n",
    "        wrapper = textwrap.TextWrapper(initial_indent='-'*leaf, width=70)\n",
    "        if self.channel_names !=[]:\n",
    "            choice = self.weighted_choice(self.decay_seq,self.decay_weights)\n",
    "            channel = self.channel_names[choice][1]\n",
    "            for part in channel:\n",
    "                print wrapper.fill(part)\n",
    "                particle(part).decay_tree_random(leaf+1)           \n",
    "        else: \n",
    "            print wrapper.fill('Stable')\n",
    "        \n",
    "    def next_time(self):\n",
    "        return random.expovariate(1/self.lifetime)\n",
    "   \n",
    "    def next_time_ren(self):\n",
    "        return renormalize(magnitude(self.next_time()))\n",
    "\n",
    "        \n",
    "    "
   ]
  },
  {
   "cell_type": "code",
   "execution_count": 10,
   "metadata": {},
   "outputs": [
    {
     "data": {
      "text/plain": [
       "[]"
      ]
     },
     "execution_count": 10,
     "metadata": {},
     "output_type": "execute_result"
    }
   ],
   "source": [
    "dbar = particle('dbar')\n",
    "dbar.channel_names"
   ]
  },
  {
   "cell_type": "code",
   "execution_count": 13,
   "metadata": {},
   "outputs": [],
   "source": [
    "dbar.lifetime"
   ]
  },
  {
   "cell_type": "code",
   "execution_count": 26,
   "metadata": {},
   "outputs": [
    {
     "data": {
      "text/plain": [
       "0.0"
      ]
     },
     "execution_count": 26,
     "metadata": {},
     "output_type": "execute_result"
    }
   ],
   "source": [
    "f = particle('gamma0')\n",
    "f.mass"
   ]
  },
  {
   "cell_type": "code",
   "execution_count": 7,
   "metadata": {},
   "outputs": [
    {
     "name": "stdout",
     "output_type": "stream",
     "text": [
      "-bbar\n",
      "--Stable\n",
      "-bbar\n",
      "--Stable\n"
     ]
    }
   ],
   "source": [
    "H = particle('H0')\n",
    "H.decay_tree_random()"
   ]
  },
  {
   "cell_type": "code",
   "execution_count": 4,
   "metadata": {},
   "outputs": [
    {
     "name": "stdout",
     "output_type": "stream",
     "text": [
      "Unknown particle: Z0\n"
     ]
    },
    {
     "ename": "AttributeError",
     "evalue": "'NoneType' object has no attribute 'decay_tree_random'",
     "output_type": "error",
     "traceback": [
      "\u001b[0;31m---------------------------------------------------------------------------\u001b[0m",
      "\u001b[0;31mAttributeError\u001b[0m                            Traceback (most recent call last)",
      "\u001b[0;32m<ipython-input-4-367e02d25f67>\u001b[0m in \u001b[0;36m<module>\u001b[0;34m()\u001b[0m\n\u001b[1;32m      1\u001b[0m \u001b[0mZ\u001b[0m \u001b[0;34m=\u001b[0m \u001b[0mparticle\u001b[0m\u001b[0;34m(\u001b[0m\u001b[0;34m'Z0'\u001b[0m\u001b[0;34m)\u001b[0m\u001b[0;34m\u001b[0m\u001b[0m\n\u001b[0;32m----> 2\u001b[0;31m \u001b[0mZ\u001b[0m\u001b[0;34m.\u001b[0m\u001b[0mdecay_tree_random\u001b[0m\u001b[0;34m(\u001b[0m\u001b[0;34m)\u001b[0m\u001b[0;34m\u001b[0m\u001b[0m\n\u001b[0m",
      "\u001b[0;31mAttributeError\u001b[0m: 'NoneType' object has no attribute 'decay_tree_random'"
     ]
    }
   ],
   "source": [
    "Z = particle('Z0')\n",
    "Z.decay_tree_random()"
   ]
  },
  {
   "cell_type": "code",
   "execution_count": 8,
   "metadata": {},
   "outputs": [
    {
     "data": {
      "text/plain": [
       "[(0.153995, [1, -1]),\n",
       " (0.153984, [3, -3]),\n",
       " (0.152272, [5, -5]),\n",
       " (0.11942, [2, -2]),\n",
       " (0.119259, [4, -4]),\n",
       " (0.066806, [12, -12]),\n",
       " (0.066806, [14, -14]),\n",
       " (0.066806, [16, -16]),\n",
       " (0.033576, [11, -11]),\n",
       " (0.033576, [13, -13]),\n",
       " (0.0335, [15, -15])]"
      ]
     },
     "execution_count": 8,
     "metadata": {},
     "output_type": "execute_result"
    }
   ],
   "source": [
    "Z.decay_channels"
   ]
  },
  {
   "cell_type": "code",
   "execution_count": 102,
   "metadata": {},
   "outputs": [
    {
     "name": "stdout",
     "output_type": "stream",
     "text": [
      "-e+\n",
      "--Stable\n",
      "-nu_e\n",
      "--Stable\n"
     ]
    }
   ],
   "source": [
    "W = particle('W+')\n",
    "W.decay_tree_random()"
   ]
  },
  {
   "cell_type": "code",
   "execution_count": 38,
   "metadata": {},
   "outputs": [
    {
     "name": "stdout",
     "output_type": "stream",
     "text": [
      "-nubar_tau\n",
      "--Stable\n",
      "-pi0\n",
      "--gamma0\n",
      "---Stable\n",
      "--gamma0\n",
      "---Stable\n",
      "-pi+\n",
      "--mu+\n",
      "---nu_e\n",
      "----Stable\n",
      "---e+\n",
      "----Stable\n",
      "---nubar_mu\n",
      "----Stable\n",
      "--nu_mu\n",
      "---Stable\n"
     ]
    }
   ],
   "source": [
    "t = particle('tau+')\n",
    "t.decay_tree_random()"
   ]
  },
  {
   "cell_type": "code",
   "execution_count": 174,
   "metadata": {},
   "outputs": [
    {
     "name": "stdout",
     "output_type": "stream",
     "text": [
      "-Channel 0 : 1.0\n",
      "--nubar_e\n",
      "---Stable\n",
      "--e-\n",
      "---Stable\n",
      "--p+\n",
      "---Stable\n"
     ]
    }
   ],
   "source": [
    "n= particle('n0')\n",
    "n.decay_tree()\n"
   ]
  },
  {
   "cell_type": "code",
   "execution_count": 99,
   "metadata": {},
   "outputs": [
    {
     "name": "stdout",
     "output_type": "stream",
     "text": [
      "-Stable\n"
     ]
    }
   ],
   "source": [
    "e=particle('e-')\n",
    "e.decay_tree_random()"
   ]
  },
  {
   "cell_type": "code",
   "execution_count": null,
   "metadata": {},
   "outputs": [],
   "source": []
  },
  {
   "cell_type": "code",
   "execution_count": null,
   "metadata": {},
   "outputs": [],
   "source": [
    "\n"
   ]
  },
  {
   "cell_type": "code",
   "execution_count": 176,
   "metadata": {},
   "outputs": [
    {
     "name": "stdout",
     "output_type": "stream",
     "text": [
      "-Channel 0 : 1.0\n",
      "--nu_e\n",
      "---Stable\n",
      "--e+\n",
      "---Stable\n",
      "--nubar_mu\n",
      "---Stable\n"
     ]
    }
   ],
   "source": [
    "mu= particle('mu+')\n",
    "mu.decay_tree()"
   ]
  },
  {
   "cell_type": "code",
   "execution_count": 100,
   "metadata": {},
   "outputs": [
    {
     "name": "stdout",
     "output_type": "stream",
     "text": [
      "-mu+\n",
      "--nu_e\n",
      "---Stable\n",
      "--e+\n",
      "---Stable\n",
      "--nubar_mu\n",
      "---Stable\n",
      "-nu_mu\n",
      "--Stable\n"
     ]
    }
   ],
   "source": [
    "pi= particle('pi+')\n",
    "pi.decay_tree_random()"
   ]
  },
  {
   "cell_type": "code",
   "execution_count": null,
   "metadata": {},
   "outputs": [],
   "source": []
  },
  {
   "cell_type": "code",
   "execution_count": null,
   "metadata": {},
   "outputs": [],
   "source": []
  },
  {
   "cell_type": "code",
   "execution_count": null,
   "metadata": {},
   "outputs": [],
   "source": []
  },
  {
   "cell_type": "code",
   "execution_count": 13,
   "metadata": {},
   "outputs": [
    {
     "data": {
      "text/plain": [
       "[(0.153995, ['dbar', 'dbar']),\n",
       " (0.153984, ['sbar', 'sbar']),\n",
       " (0.152272, ['bbar', 'bbar']),\n",
       " (0.11942, ['ubar', 'ubar']),\n",
       " (0.119259, ['cbar', 'cbar']),\n",
       " (0.066806, ['nu_e', 'nubar_e']),\n",
       " (0.066806, ['nu_mu', 'nubar_mu']),\n",
       " (0.066806, ['nu_tau', 'nubar_tau']),\n",
       " (0.033576, ['e-', 'e+']),\n",
       " (0.033576, ['mu-', 'mu+']),\n",
       " (0.0335, ['tau-', 'tau+'])]"
      ]
     },
     "execution_count": 13,
     "metadata": {},
     "output_type": "execute_result"
    }
   ],
   "source": [
    "Z = particle('Z0')\n",
    "Z.channel_names"
   ]
  },
  {
   "cell_type": "code",
   "execution_count": null,
   "metadata": {},
   "outputs": [],
   "source": []
  },
  {
   "cell_type": "code",
   "execution_count": 17,
   "metadata": {},
   "outputs": [
    {
     "data": {
      "text/plain": [
       "[(0.321369, ['dbar', 'ubar']),\n",
       " (0.320615, ['sbar', 'cbar']),\n",
       " (0.108166, ['e+', 'nu_e']),\n",
       " (0.108166, ['mu+', 'nu_mu']),\n",
       " (0.108087, ['tau+', 'nu_tau']),\n",
       " (0.016502, ['sbar', 'ubar']),\n",
       " (0.016494, ['dbar', 'cbar']),\n",
       " (0.000591, ['bbar', 'cbar']),\n",
       " (1e-05, ['bbar', 'ubar'])]"
      ]
     },
     "execution_count": 17,
     "metadata": {},
     "output_type": "execute_result"
    }
   ],
   "source": [
    "W = particle('W+')\n",
    "W.channel_names"
   ]
  },
  {
   "cell_type": "code",
   "execution_count": 50,
   "metadata": {},
   "outputs": [
    {
     "data": {
      "text/plain": [
       "'stable particle'"
      ]
     },
     "execution_count": 50,
     "metadata": {},
     "output_type": "execute_result"
    }
   ],
   "source": [
    "dbar = particle('dbar')\n",
    "dbar.channel_names()"
   ]
  },
  {
   "cell_type": "code",
   "execution_count": 20,
   "metadata": {},
   "outputs": [
    {
     "data": {
      "text/plain": [
       "[(0.25489, ['nubar_tau', 'pi0', 'pi+']),\n",
       " (0.178345, ['nubar_tau', 'e+', 'nu_e']),\n",
       " (0.173545, ['nubar_tau', 'mu+', 'nu_mu']),\n",
       " (0.108924, ['nubar_tau', 'pi+']),\n",
       " (0.09237, ['nubar_tau', 'pi0', 'pi0', 'pi+']),\n",
       " (0.089813, ['nubar_tau', 'pi+', 'pi+', 'pi-']),\n",
       " (0.044435, ['nubar_tau', 'pi0', 'pi+', 'pi+', 'pi-']),\n",
       " (0.010313, ['nubar_tau', 'pi0', 'pi0', 'pi0', 'pi+']),\n",
       " (0.008957, ['nubar_tau', 'pi+', 'K0']),\n",
       " (0.006885, ['nubar_tau', 'K+']),\n",
       " (0.004935, ['nubar_tau', 'pi0', 'pi0', 'pi+', 'pi+', 'pi-']),\n",
       " (0.004491, ['nubar_tau', 'pi0', 'K+']),\n",
       " (0.003757, ['nubar_tau', 'pi0', 'pi+', 'K0']),\n",
       " (0.003292, ['nubar_tau', 'pi+', 'pi-', 'K+']),\n",
       " (0.001762, ['nubar_tau', 'gamma0', 'pi0', 'pi+']),\n",
       " (0.001744, ['nubar_tau', 'pi0', 'pi+', 'eta0']),\n",
       " (0.001519, ['nubar_tau', 'pi+', 'K+', 'K-']),\n",
       " (0.001518, ['nubar_tau', 'pi0', 'K0', 'K+']),\n",
       " (0.001513, ['nubar_tau', 'K0', 'K+']),\n",
       " (0.001087, ['nubar_tau', 'K(L)0', 'pi+', 'K(S)0']),\n",
       " (0.000957, ['nubar_tau', 'pi0', 'pi0', 'pi0', 'pi0', 'pi+']),\n",
       " (0.000834, ['nubar_tau', 'pi+', 'pi+', 'pi+', 'pi-', 'pi-']),\n",
       " (0.000555, ['nubar_tau', 'pi0', 'pi0', 'K+']),\n",
       " (0.0004, ['nubar_tau', 'omega(782)0', 'K+']),\n",
       " (0.000397, ['nubar_tau', 'pi0', 'pi0', 'pi0', 'K+']),\n",
       " (0.000307, ['nubar_tau', 'pi0', 'pi+', 'pi-', 'K+']),\n",
       " (0.000297, ['nubar_tau', 'pi0', 'pi+', 'K0', 'K0']),\n",
       " (0.00028, ['nubar_tau', 'eta0', 'K*(892)+']),\n",
       " (0.000263, ['nubar_tau', 'eta0', 'K+']),\n",
       " (0.000238, ['nubar_tau', 'pi0', 'pi0', 'pi+', 'K0']),\n",
       " (0.000235, ['nubar_tau', 'K(L)0', 'K(L)0', 'pi+']),\n",
       " (0.000235, ['nubar_tau', 'pi+', 'K(S)0', 'K(S)0']),\n",
       " (0.000225, ['nubar_tau', 'pi+', 'pi+', 'pi-', 'eta0']),\n",
       " (0.000225, ['nubar_tau', 'pi+', 'pi+', 'pi-', 'K0']),\n",
       " (0.000145, ['nubar_tau', 'pi0', 'pi0', 'pi+', 'eta0']),\n",
       " (0.000135, ['nubar_tau', 'pi0', 'pi0', 'pi+', 'omega(782)0']),\n",
       " (0.000118, ['nubar_tau', 'pi+', 'pi+', 'pi-', 'omega(782)0']),\n",
       " (5.9e-05, ['nubar_tau', 'pi0', 'pi+', 'K+', 'K-'])]"
      ]
     },
     "execution_count": 20,
     "metadata": {},
     "output_type": "execute_result"
    }
   ],
   "source": [
    "t = particle('tau+')\n",
    "t.channel_names"
   ]
  },
  {
   "cell_type": "code",
   "execution_count": null,
   "metadata": {},
   "outputs": [],
   "source": []
  },
  {
   "cell_type": "code",
   "execution_count": null,
   "metadata": {},
   "outputs": [],
   "source": []
  },
  {
   "cell_type": "code",
   "execution_count": null,
   "metadata": {},
   "outputs": [],
   "source": []
  },
  {
   "cell_type": "code",
   "execution_count": null,
   "metadata": {},
   "outputs": [],
   "source": []
  },
  {
   "cell_type": "code",
   "execution_count": null,
   "metadata": {},
   "outputs": [],
   "source": []
  },
  {
   "cell_type": "code",
   "execution_count": 259,
   "metadata": {},
   "outputs": [],
   "source": [
    "import math\n",
    "import random\n",
    "\n",
    "def nextTime(rateParameter):\n",
    "    return -math.log(1.0 - random.random()) * rateParameter"
   ]
  },
  {
   "cell_type": "code",
   "execution_count": null,
   "metadata": {},
   "outputs": [],
   "source": []
  },
  {
   "cell_type": "code",
   "execution_count": null,
   "metadata": {},
   "outputs": [],
   "source": []
  },
  {
   "cell_type": "code",
   "execution_count": 13,
   "metadata": {},
   "outputs": [
    {
     "data": {
      "text/plain": [
       "1.2783926824204178e-13"
      ]
     },
     "execution_count": 13,
     "metadata": {},
     "output_type": "execute_result"
    }
   ],
   "source": [
    "random.expovariate(1/W.lifetime)"
   ]
  },
  {
   "cell_type": "code",
   "execution_count": 16,
   "metadata": {},
   "outputs": [
    {
     "name": "stdout",
     "output_type": "stream",
     "text": [
      "-13\n",
      "6\n",
      "-1\n",
      "-11\n",
      "-13\n",
      "-13\n",
      "-1\n",
      "-12\n",
      "-12\n",
      "-1\n",
      "-12\n",
      "-12\n",
      "-12\n",
      "-12\n",
      "-12\n",
      "-12\n",
      "-12\n",
      "-12\n",
      "-12\n",
      "-12\n",
      "-12\n",
      "-12\n",
      "-12\n",
      "-12\n",
      "-12\n",
      "-12\n",
      "-11\n",
      "-12\n",
      "-11\n",
      "-10\n",
      "-5\n",
      "-12\n",
      "-12\n",
      "-12\n",
      "-12\n",
      "-12\n",
      "-10\n",
      "-11\n",
      "4\n",
      "-1\n",
      "-12\n",
      "-12\n",
      "-12\n",
      "-12\n",
      "-12\n",
      "-12\n",
      "-12\n",
      "-12\n",
      "-12\n",
      "-12\n",
      "-12\n",
      "-12\n",
      "-12\n",
      "-12\n",
      "-12\n",
      "-11\n",
      "-10\n",
      "-11\n",
      "4\n",
      "-12\n",
      "-10\n",
      "-12\n",
      "-12\n",
      "-12\n",
      "-7\n",
      "-11\n",
      "-12\n",
      "-12\n",
      "-10\n",
      "-12\n",
      "-2\n",
      "-12\n",
      "-12\n",
      "-12\n",
      "1\n",
      "-11\n",
      "-12\n",
      "-12\n",
      "-12\n",
      "-12\n",
      "4\n",
      "-11\n",
      "-12\n",
      "-12\n",
      "-12\n",
      "-9\n",
      "-10\n",
      "-12\n",
      "-12\n",
      "-11\n",
      "14\n",
      "-12\n",
      "-12\n",
      "-12\n",
      "0\n",
      "-9\n",
      "-11\n",
      "-1\n",
      "-11\n",
      "-1\n",
      "-11\n",
      "-11\n",
      "-9\n",
      "-10\n",
      "-12\n",
      "-12\n",
      "-12\n",
      "-12\n",
      "0\n",
      "-11\n",
      "0\n",
      "-11\n",
      "0\n",
      "0\n",
      "-10\n",
      "-1\n",
      "-12\n",
      "-9\n",
      "-8\n",
      "-12\n",
      "-11\n",
      "-11\n",
      "-12\n",
      "-12\n",
      "-12\n",
      "-12\n",
      "-12\n",
      "-12\n",
      "-12\n",
      "-12\n",
      "-12\n",
      "0\n",
      "-10\n",
      "-12\n",
      "-12\n",
      "-12\n",
      "-12\n",
      "-12\n",
      "-12\n",
      "-12\n",
      "-12\n",
      "-12\n",
      "-11\n",
      "2\n",
      "-12\n",
      "0\n",
      "-12\n",
      "-11\n",
      "-12\n",
      "-11\n",
      "-11\n",
      "-11\n",
      "-12\n",
      "-11\n",
      "1\n",
      "-12\n",
      "-11\n",
      "-11\n",
      "-11\n",
      "-12\n",
      "-11\n",
      "-12\n",
      "-12\n",
      "-11\n",
      "-12\n",
      "-12\n",
      "-12\n",
      "-12\n",
      "-11\n",
      "2\n",
      "-12\n",
      "-12\n",
      "-12\n",
      "-12\n",
      "0\n",
      "-10\n",
      "-11\n",
      "-11\n",
      "-11\n",
      "-11\n",
      "-10\n",
      "-11\n",
      "-12\n",
      "-11\n",
      "-12\n",
      "-12\n",
      "-12\n",
      "2\n",
      "-11\n",
      "-12\n",
      "-11\n",
      "-12\n",
      "2\n",
      "-11\n",
      "-12\n",
      "-12\n",
      "-12\n",
      "-12\n",
      "-12\n",
      "-12\n",
      "-11\n",
      "-11\n",
      "-11\n",
      "0\n",
      "-12\n",
      "-12\n",
      "-8\n",
      "-11\n",
      "-12\n",
      "-12\n",
      "1\n",
      "-11\n",
      "-12\n",
      "-12\n",
      "-12\n",
      "-12\n",
      "-8\n",
      "-12\n",
      "-12\n",
      "-12\n",
      "-12\n",
      "-10\n",
      "0\n",
      "-12\n",
      "2\n",
      "-11\n",
      "2\n",
      "-12\n",
      "-11\n",
      "-12\n",
      "-12\n",
      "-10\n",
      "-12\n",
      "-12\n",
      "-12\n",
      "-10\n",
      "-12\n",
      "-12\n",
      "-11\n",
      "-12\n",
      "-12\n",
      "-11\n",
      "-11\n",
      "-11\n",
      "-11\n",
      "-12\n",
      "-12\n",
      "-12\n",
      "-1\n",
      "-11\n",
      "0\n",
      "-12\n",
      "-12\n",
      "-11\n",
      "-12\n",
      "-12\n",
      "-11\n",
      "-1\n",
      "-12\n",
      "-11\n",
      "-12\n",
      "-9\n",
      "0\n",
      "-12\n",
      "-12\n",
      "-12\n",
      "-12\n",
      "-11\n",
      "-12\n",
      "-12\n",
      "-12\n",
      "-12\n",
      "-11\n",
      "4\n",
      "-12\n",
      "-12\n",
      "-12\n",
      "-12\n",
      "-11\n",
      "-12\n",
      "-11\n",
      "-12\n",
      "-12\n",
      "-10\n",
      "-12\n",
      "-12\n",
      "-12\n",
      "-10\n",
      "-12\n",
      "4\n",
      "-10\n",
      "-12\n",
      "-12\n",
      "-12\n",
      "-12\n",
      "-12\n",
      "-12\n",
      "-12\n",
      "-12\n",
      "-12\n",
      "-12\n",
      "-12\n",
      "-12\n",
      "-8\n",
      "-11\n",
      "-12\n",
      "-12\n",
      "-1\n",
      "-11\n",
      "-12\n",
      "-11\n",
      "-12\n",
      "-12\n",
      "-12\n",
      "-12\n",
      "-12\n",
      "-12\n",
      "-12\n",
      "-12\n",
      "-12\n",
      "-12\n",
      "-12\n",
      "-12\n",
      "-12\n",
      "-12\n",
      "-12\n",
      "-10\n",
      "-12\n",
      "-12\n",
      "-1\n",
      "-12\n",
      "-13\n",
      "-12\n",
      "-12\n",
      "-12\n",
      "-1\n",
      "6\n",
      "-13\n"
     ]
    }
   ],
   "source": [
    "import numpy as np\n",
    "lifetime_array = []\n",
    "for p in tbl: \n",
    "    if p.lifetime != None:\n",
    "        lifetime_array.append(p.lifetime)\n",
    "lifetime_array=np.asarray(lifetime_array)\n",
    "def magnitude(x):\n",
    "    return int(math.floor(math.log10(x)))\n",
    "\n",
    "for item in lifetime_array:\n",
    "    print magnitude(item)"
   ]
  },
  {
   "cell_type": "code",
   "execution_count": 10,
   "metadata": {},
   "outputs": [
    {
     "data": {
      "text/plain": [
       "[[u'u', u'dbar']]"
      ]
     },
     "execution_count": 10,
     "metadata": {},
     "output_type": "execute_result"
    }
   ],
   "source": [
    "pi=particle('pi+')\n",
    "pi.composition"
   ]
  },
  {
   "cell_type": "code",
   "execution_count": 17,
   "metadata": {},
   "outputs": [
    {
     "data": {
      "text/plain": [
       "False"
      ]
     },
     "execution_count": 17,
     "metadata": {},
     "output_type": "execute_result"
    }
   ],
   "source": [
    "pypdt.get(pi.pdgid).isBaryon()"
   ]
  },
  {
   "cell_type": "code",
   "execution_count": 32,
   "metadata": {},
   "outputs": [
    {
     "data": {
      "text/plain": [
       "7236.671284925488"
      ]
     },
     "execution_count": 32,
     "metadata": {},
     "output_type": "execute_result"
    }
   ],
   "source": [
    "pi.next_time()"
   ]
  },
  {
   "cell_type": "code",
   "execution_count": 9,
   "metadata": {},
   "outputs": [],
   "source": [
    "from pypdt import pid"
   ]
  },
  {
   "cell_type": "code",
   "execution_count": 14,
   "metadata": {},
   "outputs": [
    {
     "data": {
      "text/plain": [
       "True"
      ]
     },
     "execution_count": 14,
     "metadata": {},
     "output_type": "execute_result"
    }
   ],
   "source": [
    "pid.hasDown(-100211)"
   ]
  },
  {
   "cell_type": "code",
   "execution_count": 5,
   "metadata": {},
   "outputs": [
    {
     "data": {
      "text/plain": [
       "True"
      ]
     },
     "execution_count": 5,
     "metadata": {},
     "output_type": "execute_result"
    }
   ],
   "source": [
    "pypdt.get(-100211).hasDown()"
   ]
  },
  {
   "cell_type": "code",
   "execution_count": 6,
   "metadata": {},
   "outputs": [
    {
     "data": {
      "text/plain": [
       "True"
      ]
     },
     "execution_count": 6,
     "metadata": {},
     "output_type": "execute_result"
    }
   ],
   "source": [
    "pypdt.get(-100211).hasUp()"
   ]
  },
  {
   "cell_type": "code",
   "execution_count": 7,
   "metadata": {},
   "outputs": [
    {
     "data": {
      "text/plain": [
       "False"
      ]
     },
     "execution_count": 7,
     "metadata": {},
     "output_type": "execute_result"
    }
   ],
   "source": [
    "pypdt.get(-100211).hasTop()"
   ]
  },
  {
   "cell_type": "code",
   "execution_count": 8,
   "metadata": {},
   "outputs": [
    {
     "data": {
      "text/plain": [
       "False"
      ]
     },
     "execution_count": 8,
     "metadata": {},
     "output_type": "execute_result"
    }
   ],
   "source": [
    "pypdt.get(-100211).hasFundamentalAnti()"
   ]
  },
  {
   "cell_type": "code",
   "execution_count": 327,
   "metadata": {},
   "outputs": [],
   "source": []
  },
  {
   "cell_type": "code",
   "execution_count": null,
   "metadata": {},
   "outputs": [],
   "source": []
  },
  {
   "cell_type": "code",
   "execution_count": null,
   "metadata": {},
   "outputs": [],
   "source": []
  }
 ],
 "metadata": {
  "kernelspec": {
   "display_name": "Python 2",
   "language": "python",
   "name": "python2"
  },
  "language_info": {
   "codemirror_mode": {
    "name": "ipython",
    "version": 2
   },
   "file_extension": ".py",
   "mimetype": "text/x-python",
   "name": "python",
   "nbconvert_exporter": "python",
   "pygments_lexer": "ipython2",
   "version": "2.7.14"
  }
 },
 "nbformat": 4,
 "nbformat_minor": 2
}
